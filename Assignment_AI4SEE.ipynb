{
 "cells": [
  {
   "cell_type": "code",
   "execution_count": 1,
   "id": "784bce8f",
   "metadata": {},
   "outputs": [],
   "source": [
    "import pandas as pd\n",
    "import numpy as np\n",
    "import matplotlib.pyplot as plt"
   ]
  },
  {
   "cell_type": "markdown",
   "id": "6ff318f2",
   "metadata": {},
   "source": [
    "# Reading Data"
   ]
  },
  {
   "cell_type": "code",
   "execution_count": 2,
   "id": "71a2e53a",
   "metadata": {},
   "outputs": [],
   "source": [
    "test_data = pd.read_csv(\"D:/intern assignment/files/files/test.csv\",encoding= 'unicode_escape')"
   ]
  },
  {
   "cell_type": "code",
   "execution_count": 3,
   "id": "39e22d52",
   "metadata": {},
   "outputs": [
    {
     "data": {
      "text/html": [
       "<div>\n",
       "<style scoped>\n",
       "    .dataframe tbody tr th:only-of-type {\n",
       "        vertical-align: middle;\n",
       "    }\n",
       "\n",
       "    .dataframe tbody tr th {\n",
       "        vertical-align: top;\n",
       "    }\n",
       "\n",
       "    .dataframe thead th {\n",
       "        text-align: right;\n",
       "    }\n",
       "</style>\n",
       "<table border=\"1\" class=\"dataframe\">\n",
       "  <thead>\n",
       "    <tr style=\"text-align: right;\">\n",
       "      <th></th>\n",
       "      <th>0</th>\n",
       "      <th>1</th>\n",
       "      <th>2</th>\n",
       "      <th>3</th>\n",
       "      <th>4</th>\n",
       "      <th>5</th>\n",
       "      <th>6</th>\n",
       "      <th>7</th>\n",
       "      <th>8</th>\n",
       "      <th>9</th>\n",
       "      <th>...</th>\n",
       "      <th>28</th>\n",
       "      <th>29</th>\n",
       "      <th>30</th>\n",
       "      <th>31</th>\n",
       "      <th>32</th>\n",
       "      <th>33</th>\n",
       "      <th>34</th>\n",
       "      <th>35</th>\n",
       "      <th>36</th>\n",
       "      <th>37</th>\n",
       "    </tr>\n",
       "  </thead>\n",
       "  <tbody>\n",
       "    <tr>\n",
       "      <th>0</th>\n",
       "      <td>0.0</td>\n",
       "      <td>0.000340</td>\n",
       "      <td>0.000432</td>\n",
       "      <td>0.000000</td>\n",
       "      <td>0.0</td>\n",
       "      <td>0.694290</td>\n",
       "      <td>0.038316</td>\n",
       "      <td>0.0</td>\n",
       "      <td>0.000000</td>\n",
       "      <td>0.0</td>\n",
       "      <td>...</td>\n",
       "      <td>0.0</td>\n",
       "      <td>0.50</td>\n",
       "      <td>0.036442</td>\n",
       "      <td>0.000000</td>\n",
       "      <td>0.0</td>\n",
       "      <td>0.023256</td>\n",
       "      <td>0.055147</td>\n",
       "      <td>0.055147</td>\n",
       "      <td>0.0</td>\n",
       "      <td>0.0</td>\n",
       "    </tr>\n",
       "    <tr>\n",
       "      <th>1</th>\n",
       "      <td>0.0</td>\n",
       "      <td>0.000510</td>\n",
       "      <td>0.000576</td>\n",
       "      <td>0.000000</td>\n",
       "      <td>0.0</td>\n",
       "      <td>0.694702</td>\n",
       "      <td>0.038856</td>\n",
       "      <td>0.0</td>\n",
       "      <td>0.427536</td>\n",
       "      <td>0.0</td>\n",
       "      <td>...</td>\n",
       "      <td>0.0</td>\n",
       "      <td>0.25</td>\n",
       "      <td>0.025862</td>\n",
       "      <td>0.000000</td>\n",
       "      <td>0.0</td>\n",
       "      <td>0.028623</td>\n",
       "      <td>0.040441</td>\n",
       "      <td>0.040441</td>\n",
       "      <td>0.0</td>\n",
       "      <td>0.0</td>\n",
       "    </tr>\n",
       "    <tr>\n",
       "      <th>2</th>\n",
       "      <td>0.0</td>\n",
       "      <td>0.000510</td>\n",
       "      <td>0.000576</td>\n",
       "      <td>0.000000</td>\n",
       "      <td>0.0</td>\n",
       "      <td>0.694908</td>\n",
       "      <td>0.038856</td>\n",
       "      <td>0.0</td>\n",
       "      <td>0.000000</td>\n",
       "      <td>0.0</td>\n",
       "      <td>...</td>\n",
       "      <td>0.0</td>\n",
       "      <td>0.25</td>\n",
       "      <td>0.307994</td>\n",
       "      <td>0.013699</td>\n",
       "      <td>0.0</td>\n",
       "      <td>0.026834</td>\n",
       "      <td>0.183824</td>\n",
       "      <td>0.180147</td>\n",
       "      <td>0.0</td>\n",
       "      <td>0.0</td>\n",
       "    </tr>\n",
       "    <tr>\n",
       "      <th>3</th>\n",
       "      <td>0.0</td>\n",
       "      <td>0.000170</td>\n",
       "      <td>0.000432</td>\n",
       "      <td>0.000000</td>\n",
       "      <td>0.0</td>\n",
       "      <td>0.695114</td>\n",
       "      <td>0.038856</td>\n",
       "      <td>0.0</td>\n",
       "      <td>0.007246</td>\n",
       "      <td>0.0</td>\n",
       "      <td>...</td>\n",
       "      <td>0.0</td>\n",
       "      <td>0.25</td>\n",
       "      <td>0.026254</td>\n",
       "      <td>0.000000</td>\n",
       "      <td>0.0</td>\n",
       "      <td>0.030411</td>\n",
       "      <td>0.047794</td>\n",
       "      <td>0.047794</td>\n",
       "      <td>0.0</td>\n",
       "      <td>0.0</td>\n",
       "    </tr>\n",
       "    <tr>\n",
       "      <th>4</th>\n",
       "      <td>0.0</td>\n",
       "      <td>0.000935</td>\n",
       "      <td>0.000720</td>\n",
       "      <td>0.000336</td>\n",
       "      <td>0.0</td>\n",
       "      <td>0.695733</td>\n",
       "      <td>0.039935</td>\n",
       "      <td>0.0</td>\n",
       "      <td>0.000000</td>\n",
       "      <td>0.0</td>\n",
       "      <td>...</td>\n",
       "      <td>0.0</td>\n",
       "      <td>0.25</td>\n",
       "      <td>0.014107</td>\n",
       "      <td>0.000000</td>\n",
       "      <td>0.0</td>\n",
       "      <td>0.028623</td>\n",
       "      <td>0.033088</td>\n",
       "      <td>0.029412</td>\n",
       "      <td>0.0</td>\n",
       "      <td>0.0</td>\n",
       "    </tr>\n",
       "  </tbody>\n",
       "</table>\n",
       "<p>5 rows × 38 columns</p>\n",
       "</div>"
      ],
      "text/plain": [
       "     0         1         2         3    4         5         6    7         8  \\\n",
       "0  0.0  0.000340  0.000432  0.000000  0.0  0.694290  0.038316  0.0  0.000000   \n",
       "1  0.0  0.000510  0.000576  0.000000  0.0  0.694702  0.038856  0.0  0.427536   \n",
       "2  0.0  0.000510  0.000576  0.000000  0.0  0.694908  0.038856  0.0  0.000000   \n",
       "3  0.0  0.000170  0.000432  0.000000  0.0  0.695114  0.038856  0.0  0.007246   \n",
       "4  0.0  0.000935  0.000720  0.000336  0.0  0.695733  0.039935  0.0  0.000000   \n",
       "\n",
       "     9  ...   28    29        30        31   32        33        34        35  \\\n",
       "0  0.0  ...  0.0  0.50  0.036442  0.000000  0.0  0.023256  0.055147  0.055147   \n",
       "1  0.0  ...  0.0  0.25  0.025862  0.000000  0.0  0.028623  0.040441  0.040441   \n",
       "2  0.0  ...  0.0  0.25  0.307994  0.013699  0.0  0.026834  0.183824  0.180147   \n",
       "3  0.0  ...  0.0  0.25  0.026254  0.000000  0.0  0.030411  0.047794  0.047794   \n",
       "4  0.0  ...  0.0  0.25  0.014107  0.000000  0.0  0.028623  0.033088  0.029412   \n",
       "\n",
       "    36   37  \n",
       "0  0.0  0.0  \n",
       "1  0.0  0.0  \n",
       "2  0.0  0.0  \n",
       "3  0.0  0.0  \n",
       "4  0.0  0.0  \n",
       "\n",
       "[5 rows x 38 columns]"
      ]
     },
     "execution_count": 3,
     "metadata": {},
     "output_type": "execute_result"
    }
   ],
   "source": [
    "test_data.head(5)"
   ]
  },
  {
   "cell_type": "code",
   "execution_count": 4,
   "id": "d54a2db7",
   "metadata": {},
   "outputs": [],
   "source": [
    "test_label_data = pd.read_csv(\"D:/intern assignment/files/files/test_label.csv\",encoding= 'unicode_escape')"
   ]
  },
  {
   "cell_type": "code",
   "execution_count": 5,
   "id": "586af736",
   "metadata": {},
   "outputs": [
    {
     "data": {
      "text/html": [
       "<div>\n",
       "<style scoped>\n",
       "    .dataframe tbody tr th:only-of-type {\n",
       "        vertical-align: middle;\n",
       "    }\n",
       "\n",
       "    .dataframe tbody tr th {\n",
       "        vertical-align: top;\n",
       "    }\n",
       "\n",
       "    .dataframe thead th {\n",
       "        text-align: right;\n",
       "    }\n",
       "</style>\n",
       "<table border=\"1\" class=\"dataframe\">\n",
       "  <thead>\n",
       "    <tr style=\"text-align: right;\">\n",
       "      <th></th>\n",
       "      <th>0</th>\n",
       "    </tr>\n",
       "  </thead>\n",
       "  <tbody>\n",
       "    <tr>\n",
       "      <th>69996</th>\n",
       "      <td>0</td>\n",
       "    </tr>\n",
       "    <tr>\n",
       "      <th>69997</th>\n",
       "      <td>0</td>\n",
       "    </tr>\n",
       "    <tr>\n",
       "      <th>69998</th>\n",
       "      <td>0</td>\n",
       "    </tr>\n",
       "    <tr>\n",
       "      <th>69999</th>\n",
       "      <td>0</td>\n",
       "    </tr>\n",
       "    <tr>\n",
       "      <th>70000</th>\n",
       "      <td>0</td>\n",
       "    </tr>\n",
       "  </tbody>\n",
       "</table>\n",
       "</div>"
      ],
      "text/plain": [
       "       0\n",
       "69996  0\n",
       "69997  0\n",
       "69998  0\n",
       "69999  0\n",
       "70000  0"
      ]
     },
     "execution_count": 5,
     "metadata": {},
     "output_type": "execute_result"
    }
   ],
   "source": [
    "test_label_data.tail(5)"
   ]
  },
  {
   "cell_type": "code",
   "execution_count": 6,
   "id": "fa069df3",
   "metadata": {},
   "outputs": [
    {
     "data": {
      "text/html": [
       "<div>\n",
       "<style scoped>\n",
       "    .dataframe tbody tr th:only-of-type {\n",
       "        vertical-align: middle;\n",
       "    }\n",
       "\n",
       "    .dataframe tbody tr th {\n",
       "        vertical-align: top;\n",
       "    }\n",
       "\n",
       "    .dataframe thead th {\n",
       "        text-align: right;\n",
       "    }\n",
       "</style>\n",
       "<table border=\"1\" class=\"dataframe\">\n",
       "  <thead>\n",
       "    <tr style=\"text-align: right;\">\n",
       "      <th></th>\n",
       "      <th>0</th>\n",
       "    </tr>\n",
       "  </thead>\n",
       "  <tbody>\n",
       "    <tr>\n",
       "      <th>0</th>\n",
       "      <td>0</td>\n",
       "    </tr>\n",
       "    <tr>\n",
       "      <th>1</th>\n",
       "      <td>0</td>\n",
       "    </tr>\n",
       "    <tr>\n",
       "      <th>2</th>\n",
       "      <td>0</td>\n",
       "    </tr>\n",
       "    <tr>\n",
       "      <th>3</th>\n",
       "      <td>0</td>\n",
       "    </tr>\n",
       "    <tr>\n",
       "      <th>4</th>\n",
       "      <td>0</td>\n",
       "    </tr>\n",
       "  </tbody>\n",
       "</table>\n",
       "</div>"
      ],
      "text/plain": [
       "   0\n",
       "0  0\n",
       "1  0\n",
       "2  0\n",
       "3  0\n",
       "4  0"
      ]
     },
     "execution_count": 6,
     "metadata": {},
     "output_type": "execute_result"
    }
   ],
   "source": [
    "smap_test_label = pd.read_csv(\"D:/intern assignment/files/files/smap_test_label.csv\",encoding= 'unicode_escape')\n",
    "smap_test_label.head()"
   ]
  },
  {
   "cell_type": "code",
   "execution_count": 7,
   "id": "129d4be3",
   "metadata": {},
   "outputs": [
    {
     "data": {
      "text/html": [
       "<div>\n",
       "<style scoped>\n",
       "    .dataframe tbody tr th:only-of-type {\n",
       "        vertical-align: middle;\n",
       "    }\n",
       "\n",
       "    .dataframe tbody tr th {\n",
       "        vertical-align: top;\n",
       "    }\n",
       "\n",
       "    .dataframe thead th {\n",
       "        text-align: right;\n",
       "    }\n",
       "</style>\n",
       "<table border=\"1\" class=\"dataframe\">\n",
       "  <thead>\n",
       "    <tr style=\"text-align: right;\">\n",
       "      <th></th>\n",
       "      <th>0</th>\n",
       "      <th>1</th>\n",
       "      <th>2</th>\n",
       "      <th>3</th>\n",
       "      <th>4</th>\n",
       "      <th>5</th>\n",
       "      <th>6</th>\n",
       "      <th>7</th>\n",
       "      <th>8</th>\n",
       "      <th>9</th>\n",
       "      <th>...</th>\n",
       "      <th>15</th>\n",
       "      <th>16</th>\n",
       "      <th>17</th>\n",
       "      <th>18</th>\n",
       "      <th>19</th>\n",
       "      <th>20</th>\n",
       "      <th>21</th>\n",
       "      <th>22</th>\n",
       "      <th>23</th>\n",
       "      <th>24</th>\n",
       "    </tr>\n",
       "  </thead>\n",
       "  <tbody>\n",
       "    <tr>\n",
       "      <th>0</th>\n",
       "      <td>1.0</td>\n",
       "      <td>0.0</td>\n",
       "      <td>0.0</td>\n",
       "      <td>0.0</td>\n",
       "      <td>0.0</td>\n",
       "      <td>0.0</td>\n",
       "      <td>0.0</td>\n",
       "      <td>0.0</td>\n",
       "      <td>0.0</td>\n",
       "      <td>0.0</td>\n",
       "      <td>...</td>\n",
       "      <td>0.0</td>\n",
       "      <td>0.0</td>\n",
       "      <td>0.0</td>\n",
       "      <td>0.0</td>\n",
       "      <td>0.0</td>\n",
       "      <td>0.0</td>\n",
       "      <td>0.0</td>\n",
       "      <td>0.0</td>\n",
       "      <td>0.0</td>\n",
       "      <td>0.0</td>\n",
       "    </tr>\n",
       "    <tr>\n",
       "      <th>1</th>\n",
       "      <td>1.0</td>\n",
       "      <td>0.0</td>\n",
       "      <td>0.0</td>\n",
       "      <td>0.0</td>\n",
       "      <td>0.0</td>\n",
       "      <td>0.0</td>\n",
       "      <td>0.0</td>\n",
       "      <td>0.0</td>\n",
       "      <td>0.0</td>\n",
       "      <td>0.0</td>\n",
       "      <td>...</td>\n",
       "      <td>0.0</td>\n",
       "      <td>0.0</td>\n",
       "      <td>0.0</td>\n",
       "      <td>0.0</td>\n",
       "      <td>0.0</td>\n",
       "      <td>0.0</td>\n",
       "      <td>0.0</td>\n",
       "      <td>0.0</td>\n",
       "      <td>0.0</td>\n",
       "      <td>0.0</td>\n",
       "    </tr>\n",
       "    <tr>\n",
       "      <th>2</th>\n",
       "      <td>1.0</td>\n",
       "      <td>0.0</td>\n",
       "      <td>0.0</td>\n",
       "      <td>0.0</td>\n",
       "      <td>0.0</td>\n",
       "      <td>0.0</td>\n",
       "      <td>0.0</td>\n",
       "      <td>0.0</td>\n",
       "      <td>0.0</td>\n",
       "      <td>0.0</td>\n",
       "      <td>...</td>\n",
       "      <td>0.0</td>\n",
       "      <td>0.0</td>\n",
       "      <td>0.0</td>\n",
       "      <td>0.0</td>\n",
       "      <td>0.0</td>\n",
       "      <td>0.0</td>\n",
       "      <td>0.0</td>\n",
       "      <td>0.0</td>\n",
       "      <td>0.0</td>\n",
       "      <td>0.0</td>\n",
       "    </tr>\n",
       "    <tr>\n",
       "      <th>3</th>\n",
       "      <td>1.0</td>\n",
       "      <td>0.0</td>\n",
       "      <td>0.0</td>\n",
       "      <td>0.0</td>\n",
       "      <td>0.0</td>\n",
       "      <td>0.0</td>\n",
       "      <td>0.0</td>\n",
       "      <td>0.0</td>\n",
       "      <td>0.0</td>\n",
       "      <td>0.0</td>\n",
       "      <td>...</td>\n",
       "      <td>0.0</td>\n",
       "      <td>0.0</td>\n",
       "      <td>0.0</td>\n",
       "      <td>0.0</td>\n",
       "      <td>0.0</td>\n",
       "      <td>0.0</td>\n",
       "      <td>0.0</td>\n",
       "      <td>0.0</td>\n",
       "      <td>0.0</td>\n",
       "      <td>0.0</td>\n",
       "    </tr>\n",
       "    <tr>\n",
       "      <th>4</th>\n",
       "      <td>1.0</td>\n",
       "      <td>0.0</td>\n",
       "      <td>0.0</td>\n",
       "      <td>0.0</td>\n",
       "      <td>0.0</td>\n",
       "      <td>0.0</td>\n",
       "      <td>0.0</td>\n",
       "      <td>0.0</td>\n",
       "      <td>0.0</td>\n",
       "      <td>0.0</td>\n",
       "      <td>...</td>\n",
       "      <td>0.0</td>\n",
       "      <td>0.0</td>\n",
       "      <td>0.0</td>\n",
       "      <td>0.0</td>\n",
       "      <td>0.0</td>\n",
       "      <td>0.0</td>\n",
       "      <td>1.0</td>\n",
       "      <td>1.0</td>\n",
       "      <td>0.0</td>\n",
       "      <td>0.0</td>\n",
       "    </tr>\n",
       "  </tbody>\n",
       "</table>\n",
       "<p>5 rows × 25 columns</p>\n",
       "</div>"
      ],
      "text/plain": [
       "     0    1    2    3    4    5    6    7    8    9  ...   15   16   17   18  \\\n",
       "0  1.0  0.0  0.0  0.0  0.0  0.0  0.0  0.0  0.0  0.0  ...  0.0  0.0  0.0  0.0   \n",
       "1  1.0  0.0  0.0  0.0  0.0  0.0  0.0  0.0  0.0  0.0  ...  0.0  0.0  0.0  0.0   \n",
       "2  1.0  0.0  0.0  0.0  0.0  0.0  0.0  0.0  0.0  0.0  ...  0.0  0.0  0.0  0.0   \n",
       "3  1.0  0.0  0.0  0.0  0.0  0.0  0.0  0.0  0.0  0.0  ...  0.0  0.0  0.0  0.0   \n",
       "4  1.0  0.0  0.0  0.0  0.0  0.0  0.0  0.0  0.0  0.0  ...  0.0  0.0  0.0  0.0   \n",
       "\n",
       "    19   20   21   22   23   24  \n",
       "0  0.0  0.0  0.0  0.0  0.0  0.0  \n",
       "1  0.0  0.0  0.0  0.0  0.0  0.0  \n",
       "2  0.0  0.0  0.0  0.0  0.0  0.0  \n",
       "3  0.0  0.0  0.0  0.0  0.0  0.0  \n",
       "4  0.0  0.0  1.0  1.0  0.0  0.0  \n",
       "\n",
       "[5 rows x 25 columns]"
      ]
     },
     "execution_count": 7,
     "metadata": {},
     "output_type": "execute_result"
    }
   ],
   "source": [
    "smap_test = pd.read_csv(\"D:/intern assignment/files/files/smap_test.csv\",encoding= 'unicode_escape')\n",
    "smap_test.head()"
   ]
  },
  {
   "cell_type": "code",
   "execution_count": 8,
   "id": "bb64521f",
   "metadata": {},
   "outputs": [
    {
     "data": {
      "text/html": [
       "<div>\n",
       "<style scoped>\n",
       "    .dataframe tbody tr th:only-of-type {\n",
       "        vertical-align: middle;\n",
       "    }\n",
       "\n",
       "    .dataframe tbody tr th {\n",
       "        vertical-align: top;\n",
       "    }\n",
       "\n",
       "    .dataframe thead th {\n",
       "        text-align: right;\n",
       "    }\n",
       "</style>\n",
       "<table border=\"1\" class=\"dataframe\">\n",
       "  <thead>\n",
       "    <tr style=\"text-align: right;\">\n",
       "      <th></th>\n",
       "      <th>timestamp_(min)</th>\n",
       "      <th>label</th>\n",
       "    </tr>\n",
       "  </thead>\n",
       "  <tbody>\n",
       "    <tr>\n",
       "      <th>0</th>\n",
       "      <td>132480.0</td>\n",
       "      <td>0</td>\n",
       "    </tr>\n",
       "    <tr>\n",
       "      <th>1</th>\n",
       "      <td>132481.0</td>\n",
       "      <td>0</td>\n",
       "    </tr>\n",
       "    <tr>\n",
       "      <th>2</th>\n",
       "      <td>132482.0</td>\n",
       "      <td>0</td>\n",
       "    </tr>\n",
       "    <tr>\n",
       "      <th>3</th>\n",
       "      <td>132483.0</td>\n",
       "      <td>0</td>\n",
       "    </tr>\n",
       "    <tr>\n",
       "      <th>4</th>\n",
       "      <td>132484.0</td>\n",
       "      <td>0</td>\n",
       "    </tr>\n",
       "  </tbody>\n",
       "</table>\n",
       "</div>"
      ],
      "text/plain": [
       "   timestamp_(min)  label\n",
       "0         132480.0      0\n",
       "1         132481.0      0\n",
       "2         132482.0      0\n",
       "3         132483.0      0\n",
       "4         132484.0      0"
      ]
     },
     "execution_count": 8,
     "metadata": {},
     "output_type": "execute_result"
    }
   ],
   "source": [
    "psm_test_label= pd.read_csv(\"D:/intern assignment/files/files/psm_test_label.csv\",encoding= 'unicode_escape')\n",
    "psm_test_label.head()"
   ]
  },
  {
   "cell_type": "code",
   "execution_count": 9,
   "id": "1cc5ce02",
   "metadata": {},
   "outputs": [
    {
     "data": {
      "text/html": [
       "<div>\n",
       "<style scoped>\n",
       "    .dataframe tbody tr th:only-of-type {\n",
       "        vertical-align: middle;\n",
       "    }\n",
       "\n",
       "    .dataframe tbody tr th {\n",
       "        vertical-align: top;\n",
       "    }\n",
       "\n",
       "    .dataframe thead th {\n",
       "        text-align: right;\n",
       "    }\n",
       "</style>\n",
       "<table border=\"1\" class=\"dataframe\">\n",
       "  <thead>\n",
       "    <tr style=\"text-align: right;\">\n",
       "      <th></th>\n",
       "      <th>0</th>\n",
       "    </tr>\n",
       "  </thead>\n",
       "  <tbody>\n",
       "    <tr>\n",
       "      <th>0</th>\n",
       "      <td>0</td>\n",
       "    </tr>\n",
       "    <tr>\n",
       "      <th>1</th>\n",
       "      <td>0</td>\n",
       "    </tr>\n",
       "    <tr>\n",
       "      <th>2</th>\n",
       "      <td>0</td>\n",
       "    </tr>\n",
       "    <tr>\n",
       "      <th>3</th>\n",
       "      <td>0</td>\n",
       "    </tr>\n",
       "    <tr>\n",
       "      <th>4</th>\n",
       "      <td>0</td>\n",
       "    </tr>\n",
       "  </tbody>\n",
       "</table>\n",
       "</div>"
      ],
      "text/plain": [
       "   0\n",
       "0  0\n",
       "1  0\n",
       "2  0\n",
       "3  0\n",
       "4  0"
      ]
     },
     "execution_count": 9,
     "metadata": {},
     "output_type": "execute_result"
    }
   ],
   "source": [
    "msl_test_label= pd.read_csv(\"D:/intern assignment/files/files/msl_test_label.csv\",encoding= 'unicode_escape')\n",
    "msl_test_label.head()"
   ]
  },
  {
   "cell_type": "code",
   "execution_count": 10,
   "id": "3048e1f5",
   "metadata": {},
   "outputs": [
    {
     "data": {
      "text/html": [
       "<div>\n",
       "<style scoped>\n",
       "    .dataframe tbody tr th:only-of-type {\n",
       "        vertical-align: middle;\n",
       "    }\n",
       "\n",
       "    .dataframe tbody tr th {\n",
       "        vertical-align: top;\n",
       "    }\n",
       "\n",
       "    .dataframe thead th {\n",
       "        text-align: right;\n",
       "    }\n",
       "</style>\n",
       "<table border=\"1\" class=\"dataframe\">\n",
       "  <thead>\n",
       "    <tr style=\"text-align: right;\">\n",
       "      <th></th>\n",
       "      <th>0</th>\n",
       "      <th>1</th>\n",
       "      <th>2</th>\n",
       "      <th>3</th>\n",
       "      <th>4</th>\n",
       "      <th>5</th>\n",
       "      <th>6</th>\n",
       "      <th>7</th>\n",
       "      <th>8</th>\n",
       "      <th>9</th>\n",
       "      <th>...</th>\n",
       "      <th>45</th>\n",
       "      <th>46</th>\n",
       "      <th>47</th>\n",
       "      <th>48</th>\n",
       "      <th>49</th>\n",
       "      <th>50</th>\n",
       "      <th>51</th>\n",
       "      <th>52</th>\n",
       "      <th>53</th>\n",
       "      <th>54</th>\n",
       "    </tr>\n",
       "  </thead>\n",
       "  <tbody>\n",
       "    <tr>\n",
       "      <th>0</th>\n",
       "      <td>-0.946958</td>\n",
       "      <td>0</td>\n",
       "      <td>0</td>\n",
       "      <td>0</td>\n",
       "      <td>0</td>\n",
       "      <td>0</td>\n",
       "      <td>0</td>\n",
       "      <td>0</td>\n",
       "      <td>0</td>\n",
       "      <td>0</td>\n",
       "      <td>...</td>\n",
       "      <td>0</td>\n",
       "      <td>0</td>\n",
       "      <td>0</td>\n",
       "      <td>0</td>\n",
       "      <td>0</td>\n",
       "      <td>0</td>\n",
       "      <td>0</td>\n",
       "      <td>0</td>\n",
       "      <td>0</td>\n",
       "      <td>0</td>\n",
       "    </tr>\n",
       "    <tr>\n",
       "      <th>1</th>\n",
       "      <td>-0.942278</td>\n",
       "      <td>0</td>\n",
       "      <td>0</td>\n",
       "      <td>0</td>\n",
       "      <td>0</td>\n",
       "      <td>0</td>\n",
       "      <td>0</td>\n",
       "      <td>0</td>\n",
       "      <td>0</td>\n",
       "      <td>0</td>\n",
       "      <td>...</td>\n",
       "      <td>0</td>\n",
       "      <td>0</td>\n",
       "      <td>0</td>\n",
       "      <td>0</td>\n",
       "      <td>0</td>\n",
       "      <td>0</td>\n",
       "      <td>0</td>\n",
       "      <td>0</td>\n",
       "      <td>0</td>\n",
       "      <td>0</td>\n",
       "    </tr>\n",
       "    <tr>\n",
       "      <th>2</th>\n",
       "      <td>-0.936037</td>\n",
       "      <td>0</td>\n",
       "      <td>0</td>\n",
       "      <td>0</td>\n",
       "      <td>0</td>\n",
       "      <td>0</td>\n",
       "      <td>0</td>\n",
       "      <td>0</td>\n",
       "      <td>0</td>\n",
       "      <td>0</td>\n",
       "      <td>...</td>\n",
       "      <td>0</td>\n",
       "      <td>0</td>\n",
       "      <td>0</td>\n",
       "      <td>0</td>\n",
       "      <td>0</td>\n",
       "      <td>0</td>\n",
       "      <td>0</td>\n",
       "      <td>0</td>\n",
       "      <td>0</td>\n",
       "      <td>0</td>\n",
       "    </tr>\n",
       "    <tr>\n",
       "      <th>3</th>\n",
       "      <td>-0.923557</td>\n",
       "      <td>0</td>\n",
       "      <td>0</td>\n",
       "      <td>0</td>\n",
       "      <td>0</td>\n",
       "      <td>0</td>\n",
       "      <td>0</td>\n",
       "      <td>0</td>\n",
       "      <td>0</td>\n",
       "      <td>0</td>\n",
       "      <td>...</td>\n",
       "      <td>0</td>\n",
       "      <td>0</td>\n",
       "      <td>0</td>\n",
       "      <td>0</td>\n",
       "      <td>0</td>\n",
       "      <td>0</td>\n",
       "      <td>0</td>\n",
       "      <td>0</td>\n",
       "      <td>0</td>\n",
       "      <td>0</td>\n",
       "    </tr>\n",
       "    <tr>\n",
       "      <th>4</th>\n",
       "      <td>-0.917317</td>\n",
       "      <td>0</td>\n",
       "      <td>0</td>\n",
       "      <td>0</td>\n",
       "      <td>0</td>\n",
       "      <td>0</td>\n",
       "      <td>0</td>\n",
       "      <td>0</td>\n",
       "      <td>0</td>\n",
       "      <td>0</td>\n",
       "      <td>...</td>\n",
       "      <td>0</td>\n",
       "      <td>0</td>\n",
       "      <td>0</td>\n",
       "      <td>0</td>\n",
       "      <td>0</td>\n",
       "      <td>0</td>\n",
       "      <td>0</td>\n",
       "      <td>0</td>\n",
       "      <td>0</td>\n",
       "      <td>0</td>\n",
       "    </tr>\n",
       "  </tbody>\n",
       "</table>\n",
       "<p>5 rows × 55 columns</p>\n",
       "</div>"
      ],
      "text/plain": [
       "          0  1  2  3  4  5  6  7  8  9  ...  45  46  47  48  49  50  51  52  \\\n",
       "0 -0.946958  0  0  0  0  0  0  0  0  0  ...   0   0   0   0   0   0   0   0   \n",
       "1 -0.942278  0  0  0  0  0  0  0  0  0  ...   0   0   0   0   0   0   0   0   \n",
       "2 -0.936037  0  0  0  0  0  0  0  0  0  ...   0   0   0   0   0   0   0   0   \n",
       "3 -0.923557  0  0  0  0  0  0  0  0  0  ...   0   0   0   0   0   0   0   0   \n",
       "4 -0.917317  0  0  0  0  0  0  0  0  0  ...   0   0   0   0   0   0   0   0   \n",
       "\n",
       "   53  54  \n",
       "0   0   0  \n",
       "1   0   0  \n",
       "2   0   0  \n",
       "3   0   0  \n",
       "4   0   0  \n",
       "\n",
       "[5 rows x 55 columns]"
      ]
     },
     "execution_count": 10,
     "metadata": {},
     "output_type": "execute_result"
    }
   ],
   "source": [
    "msl_test= pd.read_csv(\"D:/intern assignment/files/files/msl_test.csv\",encoding= 'unicode_escape')\n",
    "msl_test.head()"
   ]
  },
  {
   "cell_type": "code",
   "execution_count": 11,
   "id": "5090c9a6",
   "metadata": {},
   "outputs": [
    {
     "data": {
      "text/html": [
       "<div>\n",
       "<style scoped>\n",
       "    .dataframe tbody tr th:only-of-type {\n",
       "        vertical-align: middle;\n",
       "    }\n",
       "\n",
       "    .dataframe tbody tr th {\n",
       "        vertical-align: top;\n",
       "    }\n",
       "\n",
       "    .dataframe thead th {\n",
       "        text-align: right;\n",
       "    }\n",
       "</style>\n",
       "<table border=\"1\" class=\"dataframe\">\n",
       "  <thead>\n",
       "    <tr style=\"text-align: right;\">\n",
       "      <th></th>\n",
       "      <th>timestamp</th>\n",
       "      <th>feature_0</th>\n",
       "      <th>feature_1</th>\n",
       "      <th>feature_2</th>\n",
       "      <th>feature_3</th>\n",
       "      <th>feature_4</th>\n",
       "      <th>feature_5</th>\n",
       "      <th>feature_6</th>\n",
       "      <th>feature_7</th>\n",
       "      <th>feature_8</th>\n",
       "      <th>...</th>\n",
       "      <th>feature_15</th>\n",
       "      <th>feature_16</th>\n",
       "      <th>feature_17</th>\n",
       "      <th>feature_18</th>\n",
       "      <th>feature_19</th>\n",
       "      <th>feature_20</th>\n",
       "      <th>feature_21</th>\n",
       "      <th>feature_22</th>\n",
       "      <th>feature_23</th>\n",
       "      <th>feature_24</th>\n",
       "    </tr>\n",
       "  </thead>\n",
       "  <tbody>\n",
       "    <tr>\n",
       "      <th>0</th>\n",
       "      <td>132480</td>\n",
       "      <td>0.775374</td>\n",
       "      <td>0.909185</td>\n",
       "      <td>0.606704</td>\n",
       "      <td>0.660626</td>\n",
       "      <td>0.449968</td>\n",
       "      <td>0.426717</td>\n",
       "      <td>0.471591</td>\n",
       "      <td>0.434668</td>\n",
       "      <td>0.479511</td>\n",
       "      <td>...</td>\n",
       "      <td>0.400617</td>\n",
       "      <td>0.480444</td>\n",
       "      <td>0.588670</td>\n",
       "      <td>0.404036</td>\n",
       "      <td>0.638957</td>\n",
       "      <td>0.020236</td>\n",
       "      <td>0.042705</td>\n",
       "      <td>0.173375</td>\n",
       "      <td>0.008715</td>\n",
       "      <td>0.105991</td>\n",
       "    </tr>\n",
       "    <tr>\n",
       "      <th>1</th>\n",
       "      <td>132481</td>\n",
       "      <td>0.775423</td>\n",
       "      <td>0.909142</td>\n",
       "      <td>0.607796</td>\n",
       "      <td>0.660655</td>\n",
       "      <td>0.487813</td>\n",
       "      <td>0.442545</td>\n",
       "      <td>0.505682</td>\n",
       "      <td>0.448640</td>\n",
       "      <td>0.499451</td>\n",
       "      <td>...</td>\n",
       "      <td>0.396902</td>\n",
       "      <td>0.500213</td>\n",
       "      <td>0.587041</td>\n",
       "      <td>0.421605</td>\n",
       "      <td>0.637865</td>\n",
       "      <td>0.018550</td>\n",
       "      <td>0.042705</td>\n",
       "      <td>0.191826</td>\n",
       "      <td>0.010893</td>\n",
       "      <td>0.110599</td>\n",
       "    </tr>\n",
       "    <tr>\n",
       "      <th>2</th>\n",
       "      <td>132482</td>\n",
       "      <td>0.775458</td>\n",
       "      <td>0.909004</td>\n",
       "      <td>0.607988</td>\n",
       "      <td>0.660623</td>\n",
       "      <td>0.469532</td>\n",
       "      <td>0.433682</td>\n",
       "      <td>0.477273</td>\n",
       "      <td>0.450906</td>\n",
       "      <td>0.487223</td>\n",
       "      <td>...</td>\n",
       "      <td>0.389270</td>\n",
       "      <td>0.487982</td>\n",
       "      <td>0.582404</td>\n",
       "      <td>0.407393</td>\n",
       "      <td>0.636091</td>\n",
       "      <td>0.018550</td>\n",
       "      <td>0.039146</td>\n",
       "      <td>0.188361</td>\n",
       "      <td>0.010893</td>\n",
       "      <td>0.115207</td>\n",
       "    </tr>\n",
       "    <tr>\n",
       "      <th>3</th>\n",
       "      <td>132483</td>\n",
       "      <td>0.775513</td>\n",
       "      <td>0.909200</td>\n",
       "      <td>0.607218</td>\n",
       "      <td>0.660640</td>\n",
       "      <td>0.459910</td>\n",
       "      <td>0.435581</td>\n",
       "      <td>0.482955</td>\n",
       "      <td>0.454683</td>\n",
       "      <td>0.490431</td>\n",
       "      <td>...</td>\n",
       "      <td>0.403780</td>\n",
       "      <td>0.491253</td>\n",
       "      <td>0.584660</td>\n",
       "      <td>0.407141</td>\n",
       "      <td>0.638138</td>\n",
       "      <td>0.020236</td>\n",
       "      <td>0.042705</td>\n",
       "      <td>0.186975</td>\n",
       "      <td>0.013072</td>\n",
       "      <td>0.110599</td>\n",
       "    </tr>\n",
       "    <tr>\n",
       "      <th>4</th>\n",
       "      <td>132484</td>\n",
       "      <td>0.775587</td>\n",
       "      <td>0.909318</td>\n",
       "      <td>0.606654</td>\n",
       "      <td>0.660643</td>\n",
       "      <td>0.462155</td>\n",
       "      <td>0.436214</td>\n",
       "      <td>0.477273</td>\n",
       "      <td>0.449396</td>\n",
       "      <td>0.494671</td>\n",
       "      <td>...</td>\n",
       "      <td>0.403636</td>\n",
       "      <td>0.495947</td>\n",
       "      <td>0.581527</td>\n",
       "      <td>0.402761</td>\n",
       "      <td>0.632678</td>\n",
       "      <td>0.021922</td>\n",
       "      <td>0.042705</td>\n",
       "      <td>0.156325</td>\n",
       "      <td>0.008715</td>\n",
       "      <td>0.110599</td>\n",
       "    </tr>\n",
       "  </tbody>\n",
       "</table>\n",
       "<p>5 rows × 26 columns</p>\n",
       "</div>"
      ],
      "text/plain": [
       "   timestamp  feature_0  feature_1  feature_2  feature_3  feature_4  \\\n",
       "0     132480   0.775374   0.909185   0.606704   0.660626   0.449968   \n",
       "1     132481   0.775423   0.909142   0.607796   0.660655   0.487813   \n",
       "2     132482   0.775458   0.909004   0.607988   0.660623   0.469532   \n",
       "3     132483   0.775513   0.909200   0.607218   0.660640   0.459910   \n",
       "4     132484   0.775587   0.909318   0.606654   0.660643   0.462155   \n",
       "\n",
       "   feature_5  feature_6  feature_7  feature_8  ...  feature_15  feature_16  \\\n",
       "0   0.426717   0.471591   0.434668   0.479511  ...    0.400617    0.480444   \n",
       "1   0.442545   0.505682   0.448640   0.499451  ...    0.396902    0.500213   \n",
       "2   0.433682   0.477273   0.450906   0.487223  ...    0.389270    0.487982   \n",
       "3   0.435581   0.482955   0.454683   0.490431  ...    0.403780    0.491253   \n",
       "4   0.436214   0.477273   0.449396   0.494671  ...    0.403636    0.495947   \n",
       "\n",
       "   feature_17  feature_18  feature_19  feature_20  feature_21  feature_22  \\\n",
       "0    0.588670    0.404036    0.638957    0.020236    0.042705    0.173375   \n",
       "1    0.587041    0.421605    0.637865    0.018550    0.042705    0.191826   \n",
       "2    0.582404    0.407393    0.636091    0.018550    0.039146    0.188361   \n",
       "3    0.584660    0.407141    0.638138    0.020236    0.042705    0.186975   \n",
       "4    0.581527    0.402761    0.632678    0.021922    0.042705    0.156325   \n",
       "\n",
       "   feature_23  feature_24  \n",
       "0    0.008715    0.105991  \n",
       "1    0.010893    0.110599  \n",
       "2    0.010893    0.115207  \n",
       "3    0.013072    0.110599  \n",
       "4    0.008715    0.110599  \n",
       "\n",
       "[5 rows x 26 columns]"
      ]
     },
     "execution_count": 11,
     "metadata": {},
     "output_type": "execute_result"
    }
   ],
   "source": [
    "psm_test= pd.read_csv(\"D:/intern assignment/files/files/psm_test.csv\")\n",
    "psm_test.head()"
   ]
  },
  {
   "cell_type": "code",
   "execution_count": 12,
   "id": "6325103e",
   "metadata": {},
   "outputs": [
    {
     "data": {
      "text/html": [
       "<div>\n",
       "<style scoped>\n",
       "    .dataframe tbody tr th:only-of-type {\n",
       "        vertical-align: middle;\n",
       "    }\n",
       "\n",
       "    .dataframe tbody tr th {\n",
       "        vertical-align: top;\n",
       "    }\n",
       "\n",
       "    .dataframe thead th {\n",
       "        text-align: right;\n",
       "    }\n",
       "</style>\n",
       "<table border=\"1\" class=\"dataframe\">\n",
       "  <thead>\n",
       "    <tr style=\"text-align: right;\">\n",
       "      <th></th>\n",
       "      <th>timestamp</th>\n",
       "      <th>feature_0</th>\n",
       "      <th>feature_1</th>\n",
       "      <th>feature_2</th>\n",
       "      <th>feature_3</th>\n",
       "      <th>feature_4</th>\n",
       "      <th>feature_5</th>\n",
       "      <th>feature_6</th>\n",
       "      <th>feature_7</th>\n",
       "      <th>feature_8</th>\n",
       "      <th>...</th>\n",
       "      <th>feature_15</th>\n",
       "      <th>feature_16</th>\n",
       "      <th>feature_17</th>\n",
       "      <th>feature_18</th>\n",
       "      <th>feature_19</th>\n",
       "      <th>feature_20</th>\n",
       "      <th>feature_21</th>\n",
       "      <th>feature_22</th>\n",
       "      <th>feature_23</th>\n",
       "      <th>feature_24</th>\n",
       "    </tr>\n",
       "  </thead>\n",
       "  <tbody>\n",
       "    <tr>\n",
       "      <th>0</th>\n",
       "      <td>132480</td>\n",
       "      <td>0.775374</td>\n",
       "      <td>0.909185</td>\n",
       "      <td>0.606704</td>\n",
       "      <td>0.660626</td>\n",
       "      <td>0.449968</td>\n",
       "      <td>0.426717</td>\n",
       "      <td>0.471591</td>\n",
       "      <td>0.434668</td>\n",
       "      <td>0.479511</td>\n",
       "      <td>...</td>\n",
       "      <td>0.400617</td>\n",
       "      <td>0.480444</td>\n",
       "      <td>0.588670</td>\n",
       "      <td>0.404036</td>\n",
       "      <td>0.638957</td>\n",
       "      <td>0.020236</td>\n",
       "      <td>0.042705</td>\n",
       "      <td>0.173375</td>\n",
       "      <td>0.008715</td>\n",
       "      <td>0.105991</td>\n",
       "    </tr>\n",
       "    <tr>\n",
       "      <th>1</th>\n",
       "      <td>132481</td>\n",
       "      <td>0.775423</td>\n",
       "      <td>0.909142</td>\n",
       "      <td>0.607796</td>\n",
       "      <td>0.660655</td>\n",
       "      <td>0.487813</td>\n",
       "      <td>0.442545</td>\n",
       "      <td>0.505682</td>\n",
       "      <td>0.448640</td>\n",
       "      <td>0.499451</td>\n",
       "      <td>...</td>\n",
       "      <td>0.396902</td>\n",
       "      <td>0.500213</td>\n",
       "      <td>0.587041</td>\n",
       "      <td>0.421605</td>\n",
       "      <td>0.637865</td>\n",
       "      <td>0.018550</td>\n",
       "      <td>0.042705</td>\n",
       "      <td>0.191826</td>\n",
       "      <td>0.010893</td>\n",
       "      <td>0.110599</td>\n",
       "    </tr>\n",
       "    <tr>\n",
       "      <th>2</th>\n",
       "      <td>132482</td>\n",
       "      <td>0.775458</td>\n",
       "      <td>0.909004</td>\n",
       "      <td>0.607988</td>\n",
       "      <td>0.660623</td>\n",
       "      <td>0.469532</td>\n",
       "      <td>0.433682</td>\n",
       "      <td>0.477273</td>\n",
       "      <td>0.450906</td>\n",
       "      <td>0.487223</td>\n",
       "      <td>...</td>\n",
       "      <td>0.389270</td>\n",
       "      <td>0.487982</td>\n",
       "      <td>0.582404</td>\n",
       "      <td>0.407393</td>\n",
       "      <td>0.636091</td>\n",
       "      <td>0.018550</td>\n",
       "      <td>0.039146</td>\n",
       "      <td>0.188361</td>\n",
       "      <td>0.010893</td>\n",
       "      <td>0.115207</td>\n",
       "    </tr>\n",
       "    <tr>\n",
       "      <th>3</th>\n",
       "      <td>132483</td>\n",
       "      <td>0.775513</td>\n",
       "      <td>0.909200</td>\n",
       "      <td>0.607218</td>\n",
       "      <td>0.660640</td>\n",
       "      <td>0.459910</td>\n",
       "      <td>0.435581</td>\n",
       "      <td>0.482955</td>\n",
       "      <td>0.454683</td>\n",
       "      <td>0.490431</td>\n",
       "      <td>...</td>\n",
       "      <td>0.403780</td>\n",
       "      <td>0.491253</td>\n",
       "      <td>0.584660</td>\n",
       "      <td>0.407141</td>\n",
       "      <td>0.638138</td>\n",
       "      <td>0.020236</td>\n",
       "      <td>0.042705</td>\n",
       "      <td>0.186975</td>\n",
       "      <td>0.013072</td>\n",
       "      <td>0.110599</td>\n",
       "    </tr>\n",
       "    <tr>\n",
       "      <th>4</th>\n",
       "      <td>132484</td>\n",
       "      <td>0.775587</td>\n",
       "      <td>0.909318</td>\n",
       "      <td>0.606654</td>\n",
       "      <td>0.660643</td>\n",
       "      <td>0.462155</td>\n",
       "      <td>0.436214</td>\n",
       "      <td>0.477273</td>\n",
       "      <td>0.449396</td>\n",
       "      <td>0.494671</td>\n",
       "      <td>...</td>\n",
       "      <td>0.403636</td>\n",
       "      <td>0.495947</td>\n",
       "      <td>0.581527</td>\n",
       "      <td>0.402761</td>\n",
       "      <td>0.632678</td>\n",
       "      <td>0.021922</td>\n",
       "      <td>0.042705</td>\n",
       "      <td>0.156325</td>\n",
       "      <td>0.008715</td>\n",
       "      <td>0.110599</td>\n",
       "    </tr>\n",
       "  </tbody>\n",
       "</table>\n",
       "<p>5 rows × 26 columns</p>\n",
       "</div>"
      ],
      "text/plain": [
       "   timestamp  feature_0  feature_1  feature_2  feature_3  feature_4  \\\n",
       "0     132480   0.775374   0.909185   0.606704   0.660626   0.449968   \n",
       "1     132481   0.775423   0.909142   0.607796   0.660655   0.487813   \n",
       "2     132482   0.775458   0.909004   0.607988   0.660623   0.469532   \n",
       "3     132483   0.775513   0.909200   0.607218   0.660640   0.459910   \n",
       "4     132484   0.775587   0.909318   0.606654   0.660643   0.462155   \n",
       "\n",
       "   feature_5  feature_6  feature_7  feature_8  ...  feature_15  feature_16  \\\n",
       "0   0.426717   0.471591   0.434668   0.479511  ...    0.400617    0.480444   \n",
       "1   0.442545   0.505682   0.448640   0.499451  ...    0.396902    0.500213   \n",
       "2   0.433682   0.477273   0.450906   0.487223  ...    0.389270    0.487982   \n",
       "3   0.435581   0.482955   0.454683   0.490431  ...    0.403780    0.491253   \n",
       "4   0.436214   0.477273   0.449396   0.494671  ...    0.403636    0.495947   \n",
       "\n",
       "   feature_17  feature_18  feature_19  feature_20  feature_21  feature_22  \\\n",
       "0    0.588670    0.404036    0.638957    0.020236    0.042705    0.173375   \n",
       "1    0.587041    0.421605    0.637865    0.018550    0.042705    0.191826   \n",
       "2    0.582404    0.407393    0.636091    0.018550    0.039146    0.188361   \n",
       "3    0.584660    0.407141    0.638138    0.020236    0.042705    0.186975   \n",
       "4    0.581527    0.402761    0.632678    0.021922    0.042705    0.156325   \n",
       "\n",
       "   feature_23  feature_24  \n",
       "0    0.008715    0.105991  \n",
       "1    0.010893    0.110599  \n",
       "2    0.010893    0.115207  \n",
       "3    0.013072    0.110599  \n",
       "4    0.008715    0.110599  \n",
       "\n",
       "[5 rows x 26 columns]"
      ]
     },
     "execution_count": 12,
     "metadata": {},
     "output_type": "execute_result"
    }
   ],
   "source": [
    "psm_test.head()"
   ]
  },
  {
   "cell_type": "code",
   "execution_count": 13,
   "id": "99e2942a",
   "metadata": {},
   "outputs": [
    {
     "data": {
      "text/html": [
       "<div>\n",
       "<style scoped>\n",
       "    .dataframe tbody tr th:only-of-type {\n",
       "        vertical-align: middle;\n",
       "    }\n",
       "\n",
       "    .dataframe tbody tr th {\n",
       "        vertical-align: top;\n",
       "    }\n",
       "\n",
       "    .dataframe thead th {\n",
       "        text-align: right;\n",
       "    }\n",
       "</style>\n",
       "<table border=\"1\" class=\"dataframe\">\n",
       "  <thead>\n",
       "    <tr style=\"text-align: right;\">\n",
       "      <th></th>\n",
       "      <th>timestamp</th>\n",
       "      <th>feature_0</th>\n",
       "      <th>feature_1</th>\n",
       "      <th>feature_2</th>\n",
       "      <th>feature_3</th>\n",
       "      <th>feature_4</th>\n",
       "      <th>feature_5</th>\n",
       "      <th>feature_6</th>\n",
       "      <th>feature_7</th>\n",
       "      <th>feature_8</th>\n",
       "      <th>...</th>\n",
       "      <th>feature_15</th>\n",
       "      <th>feature_16</th>\n",
       "      <th>feature_17</th>\n",
       "      <th>feature_18</th>\n",
       "      <th>feature_19</th>\n",
       "      <th>feature_20</th>\n",
       "      <th>feature_21</th>\n",
       "      <th>feature_22</th>\n",
       "      <th>feature_23</th>\n",
       "      <th>feature_24</th>\n",
       "    </tr>\n",
       "  </thead>\n",
       "  <tbody>\n",
       "    <tr>\n",
       "      <th>87836</th>\n",
       "      <td>220316</td>\n",
       "      <td>0.864548</td>\n",
       "      <td>0.660041</td>\n",
       "      <td>0.590923</td>\n",
       "      <td>0.413322</td>\n",
       "      <td>0.364657</td>\n",
       "      <td>0.380184</td>\n",
       "      <td>0.494318</td>\n",
       "      <td>0.450529</td>\n",
       "      <td>0.382934</td>\n",
       "      <td>...</td>\n",
       "      <td>0.394973</td>\n",
       "      <td>0.386574</td>\n",
       "      <td>0.755608</td>\n",
       "      <td>0.355207</td>\n",
       "      <td>0.835244</td>\n",
       "      <td>0.0</td>\n",
       "      <td>0.028470</td>\n",
       "      <td>0.164872</td>\n",
       "      <td>0.021786</td>\n",
       "      <td>0.069124</td>\n",
       "    </tr>\n",
       "    <tr>\n",
       "      <th>87837</th>\n",
       "      <td>220317</td>\n",
       "      <td>0.864483</td>\n",
       "      <td>0.536428</td>\n",
       "      <td>0.590742</td>\n",
       "      <td>0.413331</td>\n",
       "      <td>0.363695</td>\n",
       "      <td>0.378601</td>\n",
       "      <td>0.500000</td>\n",
       "      <td>0.451662</td>\n",
       "      <td>0.377564</td>\n",
       "      <td>...</td>\n",
       "      <td>0.386467</td>\n",
       "      <td>0.381169</td>\n",
       "      <td>0.562101</td>\n",
       "      <td>0.349141</td>\n",
       "      <td>0.490718</td>\n",
       "      <td>0.0</td>\n",
       "      <td>0.010676</td>\n",
       "      <td>0.157812</td>\n",
       "      <td>0.015251</td>\n",
       "      <td>0.069124</td>\n",
       "    </tr>\n",
       "    <tr>\n",
       "      <th>87838</th>\n",
       "      <td>220318</td>\n",
       "      <td>0.864644</td>\n",
       "      <td>0.636236</td>\n",
       "      <td>0.590451</td>\n",
       "      <td>0.413619</td>\n",
       "      <td>0.348942</td>\n",
       "      <td>0.377018</td>\n",
       "      <td>0.488636</td>\n",
       "      <td>0.438822</td>\n",
       "      <td>0.373536</td>\n",
       "      <td>...</td>\n",
       "      <td>0.413731</td>\n",
       "      <td>0.377329</td>\n",
       "      <td>0.640556</td>\n",
       "      <td>0.342261</td>\n",
       "      <td>0.700519</td>\n",
       "      <td>0.0</td>\n",
       "      <td>0.028470</td>\n",
       "      <td>0.163298</td>\n",
       "      <td>0.015251</td>\n",
       "      <td>0.129032</td>\n",
       "    </tr>\n",
       "    <tr>\n",
       "      <th>87839</th>\n",
       "      <td>220319</td>\n",
       "      <td>0.864553</td>\n",
       "      <td>0.643499</td>\n",
       "      <td>0.590222</td>\n",
       "      <td>0.413689</td>\n",
       "      <td>0.355997</td>\n",
       "      <td>0.379550</td>\n",
       "      <td>0.522727</td>\n",
       "      <td>0.448640</td>\n",
       "      <td>0.374963</td>\n",
       "      <td>...</td>\n",
       "      <td>0.416956</td>\n",
       "      <td>0.378751</td>\n",
       "      <td>0.759744</td>\n",
       "      <td>0.343052</td>\n",
       "      <td>0.828556</td>\n",
       "      <td>0.0</td>\n",
       "      <td>0.032028</td>\n",
       "      <td>0.150160</td>\n",
       "      <td>0.017429</td>\n",
       "      <td>0.059908</td>\n",
       "    </tr>\n",
       "    <tr>\n",
       "      <th>87840</th>\n",
       "      <td>220320</td>\n",
       "      <td>0.864695</td>\n",
       "      <td>0.645337</td>\n",
       "      <td>0.590731</td>\n",
       "      <td>0.413732</td>\n",
       "      <td>0.357280</td>\n",
       "      <td>0.371637</td>\n",
       "      <td>0.482955</td>\n",
       "      <td>0.440710</td>\n",
       "      <td>0.377801</td>\n",
       "      <td>...</td>\n",
       "      <td>0.405995</td>\n",
       "      <td>0.381454</td>\n",
       "      <td>0.546685</td>\n",
       "      <td>0.352665</td>\n",
       "      <td>0.617527</td>\n",
       "      <td>0.0</td>\n",
       "      <td>0.003559</td>\n",
       "      <td>0.169520</td>\n",
       "      <td>0.013072</td>\n",
       "      <td>0.050691</td>\n",
       "    </tr>\n",
       "  </tbody>\n",
       "</table>\n",
       "<p>5 rows × 26 columns</p>\n",
       "</div>"
      ],
      "text/plain": [
       "       timestamp  feature_0  feature_1  feature_2  feature_3  feature_4  \\\n",
       "87836     220316   0.864548   0.660041   0.590923   0.413322   0.364657   \n",
       "87837     220317   0.864483   0.536428   0.590742   0.413331   0.363695   \n",
       "87838     220318   0.864644   0.636236   0.590451   0.413619   0.348942   \n",
       "87839     220319   0.864553   0.643499   0.590222   0.413689   0.355997   \n",
       "87840     220320   0.864695   0.645337   0.590731   0.413732   0.357280   \n",
       "\n",
       "       feature_5  feature_6  feature_7  feature_8  ...  feature_15  \\\n",
       "87836   0.380184   0.494318   0.450529   0.382934  ...    0.394973   \n",
       "87837   0.378601   0.500000   0.451662   0.377564  ...    0.386467   \n",
       "87838   0.377018   0.488636   0.438822   0.373536  ...    0.413731   \n",
       "87839   0.379550   0.522727   0.448640   0.374963  ...    0.416956   \n",
       "87840   0.371637   0.482955   0.440710   0.377801  ...    0.405995   \n",
       "\n",
       "       feature_16  feature_17  feature_18  feature_19  feature_20  feature_21  \\\n",
       "87836    0.386574    0.755608    0.355207    0.835244         0.0    0.028470   \n",
       "87837    0.381169    0.562101    0.349141    0.490718         0.0    0.010676   \n",
       "87838    0.377329    0.640556    0.342261    0.700519         0.0    0.028470   \n",
       "87839    0.378751    0.759744    0.343052    0.828556         0.0    0.032028   \n",
       "87840    0.381454    0.546685    0.352665    0.617527         0.0    0.003559   \n",
       "\n",
       "       feature_22  feature_23  feature_24  \n",
       "87836    0.164872    0.021786    0.069124  \n",
       "87837    0.157812    0.015251    0.069124  \n",
       "87838    0.163298    0.015251    0.129032  \n",
       "87839    0.150160    0.017429    0.059908  \n",
       "87840    0.169520    0.013072    0.050691  \n",
       "\n",
       "[5 rows x 26 columns]"
      ]
     },
     "execution_count": 13,
     "metadata": {},
     "output_type": "execute_result"
    }
   ],
   "source": [
    "psm_test.tail()"
   ]
  },
  {
   "cell_type": "markdown",
   "id": "ad272612",
   "metadata": {},
   "source": [
    "# Anamoly Region"
   ]
  },
  {
   "cell_type": "code",
   "execution_count": 14,
   "id": "3ffb7046",
   "metadata": {},
   "outputs": [
    {
     "data": {
      "text/plain": [
       "<matplotlib.collections.PathCollection at 0x17f6b029310>"
      ]
     },
     "execution_count": 14,
     "metadata": {},
     "output_type": "execute_result"
    },
    {
     "data": {
      "image/png": "[encoded data removed]",
      "text/plain": [
       "<Figure size 432x288 with 1 Axes>"
      ]
     },
     "metadata": {
      "needs_background": "light"
     },
     "output_type": "display_data"
    }
   ],
   "source": [
    "#test_data anamony \n",
    "\n",
    "plt.scatter(test_data.iloc[:,0],test_data.iloc[:,1])"
   ]
  },
  {
   "cell_type": "code",
   "execution_count": 15,
   "id": "03331c6d",
   "metadata": {},
   "outputs": [],
   "source": [
    "from sklearn.ensemble import IsolationForest"
   ]
  },
  {
   "cell_type": "code",
   "execution_count": 16,
   "id": "74cfa6a9",
   "metadata": {},
   "outputs": [],
   "source": [
    "clf = IsolationForest(contamination = 'auto')\n",
    "clf.fit(test_data)\n",
    "predictions = clf.predict(test_data)"
   ]
  },
  {
   "cell_type": "code",
   "execution_count": 17,
   "id": "0d997ddc",
   "metadata": {},
   "outputs": [
    {
     "data": {
      "text/plain": [
       "array([ 1, -1,  1, ...,  1,  1,  1])"
      ]
     },
     "execution_count": 17,
     "metadata": {},
     "output_type": "execute_result"
    }
   ],
   "source": [
    "predictions"
   ]
  },
  {
   "cell_type": "code",
   "execution_count": 18,
   "id": "3616864a",
   "metadata": {},
   "outputs": [
    {
     "data": {
      "text/plain": [
       "(array([    1,    21,    51, ..., 69943, 69944, 69979], dtype=int64),)"
      ]
     },
     "execution_count": 18,
     "metadata": {},
     "output_type": "execute_result"
    }
   ],
   "source": [
    "index = np.where(predictions < 0)\n",
    "index"
   ]
  },
  {
   "cell_type": "code",
   "execution_count": 19,
   "id": "93828d4e",
   "metadata": {},
   "outputs": [],
   "source": [
    "x = test_data.values"
   ]
  },
  {
   "cell_type": "code",
   "execution_count": 20,
   "id": "f2d711eb",
   "metadata": {},
   "outputs": [
    {
     "data": {
      "text/plain": [
       "<matplotlib.collections.PathCollection at 0x17f6de15fd0>"
      ]
     },
     "execution_count": 20,
     "metadata": {},
     "output_type": "execute_result"
    },
    {
     "data": {
      "image/png": "[encoded data removed]",
      "text/plain": [
       "<Figure size 432x288 with 1 Axes>"
      ]
     },
     "metadata": {
      "needs_background": "light"
     },
     "output_type": "display_data"
    }
   ],
   "source": [
    "index = np.where(predictions < 0)\n",
    "plt.scatter(test_data.iloc[:,0], test_data.iloc[:,1])\n",
    "plt.scatter(x[index,0],x[index,1], edgecolors = \"r\")"
   ]
  },
  {
   "cell_type": "markdown",
   "id": "8196dc68",
   "metadata": {},
   "source": [
    "# Time series Anamoly and EDA"
   ]
  },
  {
   "cell_type": "code",
   "execution_count": 21,
   "id": "25eaeb4a",
   "metadata": {},
   "outputs": [],
   "source": [
    "#timeseries and anamoly"
   ]
  },
  {
   "cell_type": "code",
   "execution_count": 22,
   "id": "fc5512e5",
   "metadata": {},
   "outputs": [],
   "source": [
    "import os\n",
    "import sys"
   ]
  },
  {
   "cell_type": "code",
   "execution_count": 23,
   "id": "2dd4871f",
   "metadata": {
    "scrolled": true
   },
   "outputs": [
    {
     "data": {
      "text/html": [
       "<div>\n",
       "<style scoped>\n",
       "    .dataframe tbody tr th:only-of-type {\n",
       "        vertical-align: middle;\n",
       "    }\n",
       "\n",
       "    .dataframe tbody tr th {\n",
       "        vertical-align: top;\n",
       "    }\n",
       "\n",
       "    .dataframe thead th {\n",
       "        text-align: right;\n",
       "    }\n",
       "</style>\n",
       "<table border=\"1\" class=\"dataframe\">\n",
       "  <thead>\n",
       "    <tr style=\"text-align: right;\">\n",
       "      <th></th>\n",
       "      <th>timestamp</th>\n",
       "      <th>feature_0</th>\n",
       "      <th>feature_1</th>\n",
       "      <th>feature_2</th>\n",
       "      <th>feature_3</th>\n",
       "      <th>feature_4</th>\n",
       "      <th>feature_5</th>\n",
       "      <th>feature_6</th>\n",
       "      <th>feature_7</th>\n",
       "      <th>feature_8</th>\n",
       "      <th>...</th>\n",
       "      <th>feature_15</th>\n",
       "      <th>feature_16</th>\n",
       "      <th>feature_17</th>\n",
       "      <th>feature_18</th>\n",
       "      <th>feature_19</th>\n",
       "      <th>feature_20</th>\n",
       "      <th>feature_21</th>\n",
       "      <th>feature_22</th>\n",
       "      <th>feature_23</th>\n",
       "      <th>feature_24</th>\n",
       "    </tr>\n",
       "  </thead>\n",
       "  <tbody>\n",
       "    <tr>\n",
       "      <th>0</th>\n",
       "      <td>132480</td>\n",
       "      <td>0.775374</td>\n",
       "      <td>0.909185</td>\n",
       "      <td>0.606704</td>\n",
       "      <td>0.660626</td>\n",
       "      <td>0.449968</td>\n",
       "      <td>0.426717</td>\n",
       "      <td>0.471591</td>\n",
       "      <td>0.434668</td>\n",
       "      <td>0.479511</td>\n",
       "      <td>...</td>\n",
       "      <td>0.400617</td>\n",
       "      <td>0.480444</td>\n",
       "      <td>0.588670</td>\n",
       "      <td>0.404036</td>\n",
       "      <td>0.638957</td>\n",
       "      <td>0.020236</td>\n",
       "      <td>0.042705</td>\n",
       "      <td>0.173375</td>\n",
       "      <td>0.008715</td>\n",
       "      <td>0.105991</td>\n",
       "    </tr>\n",
       "    <tr>\n",
       "      <th>1</th>\n",
       "      <td>132481</td>\n",
       "      <td>0.775423</td>\n",
       "      <td>0.909142</td>\n",
       "      <td>0.607796</td>\n",
       "      <td>0.660655</td>\n",
       "      <td>0.487813</td>\n",
       "      <td>0.442545</td>\n",
       "      <td>0.505682</td>\n",
       "      <td>0.448640</td>\n",
       "      <td>0.499451</td>\n",
       "      <td>...</td>\n",
       "      <td>0.396902</td>\n",
       "      <td>0.500213</td>\n",
       "      <td>0.587041</td>\n",
       "      <td>0.421605</td>\n",
       "      <td>0.637865</td>\n",
       "      <td>0.018550</td>\n",
       "      <td>0.042705</td>\n",
       "      <td>0.191826</td>\n",
       "      <td>0.010893</td>\n",
       "      <td>0.110599</td>\n",
       "    </tr>\n",
       "    <tr>\n",
       "      <th>2</th>\n",
       "      <td>132482</td>\n",
       "      <td>0.775458</td>\n",
       "      <td>0.909004</td>\n",
       "      <td>0.607988</td>\n",
       "      <td>0.660623</td>\n",
       "      <td>0.469532</td>\n",
       "      <td>0.433682</td>\n",
       "      <td>0.477273</td>\n",
       "      <td>0.450906</td>\n",
       "      <td>0.487223</td>\n",
       "      <td>...</td>\n",
       "      <td>0.389270</td>\n",
       "      <td>0.487982</td>\n",
       "      <td>0.582404</td>\n",
       "      <td>0.407393</td>\n",
       "      <td>0.636091</td>\n",
       "      <td>0.018550</td>\n",
       "      <td>0.039146</td>\n",
       "      <td>0.188361</td>\n",
       "      <td>0.010893</td>\n",
       "      <td>0.115207</td>\n",
       "    </tr>\n",
       "    <tr>\n",
       "      <th>3</th>\n",
       "      <td>132483</td>\n",
       "      <td>0.775513</td>\n",
       "      <td>0.909200</td>\n",
       "      <td>0.607218</td>\n",
       "      <td>0.660640</td>\n",
       "      <td>0.459910</td>\n",
       "      <td>0.435581</td>\n",
       "      <td>0.482955</td>\n",
       "      <td>0.454683</td>\n",
       "      <td>0.490431</td>\n",
       "      <td>...</td>\n",
       "      <td>0.403780</td>\n",
       "      <td>0.491253</td>\n",
       "      <td>0.584660</td>\n",
       "      <td>0.407141</td>\n",
       "      <td>0.638138</td>\n",
       "      <td>0.020236</td>\n",
       "      <td>0.042705</td>\n",
       "      <td>0.186975</td>\n",
       "      <td>0.013072</td>\n",
       "      <td>0.110599</td>\n",
       "    </tr>\n",
       "    <tr>\n",
       "      <th>4</th>\n",
       "      <td>132484</td>\n",
       "      <td>0.775587</td>\n",
       "      <td>0.909318</td>\n",
       "      <td>0.606654</td>\n",
       "      <td>0.660643</td>\n",
       "      <td>0.462155</td>\n",
       "      <td>0.436214</td>\n",
       "      <td>0.477273</td>\n",
       "      <td>0.449396</td>\n",
       "      <td>0.494671</td>\n",
       "      <td>...</td>\n",
       "      <td>0.403636</td>\n",
       "      <td>0.495947</td>\n",
       "      <td>0.581527</td>\n",
       "      <td>0.402761</td>\n",
       "      <td>0.632678</td>\n",
       "      <td>0.021922</td>\n",
       "      <td>0.042705</td>\n",
       "      <td>0.156325</td>\n",
       "      <td>0.008715</td>\n",
       "      <td>0.110599</td>\n",
       "    </tr>\n",
       "  </tbody>\n",
       "</table>\n",
       "<p>5 rows × 26 columns</p>\n",
       "</div>"
      ],
      "text/plain": [
       "   timestamp  feature_0  feature_1  feature_2  feature_3  feature_4  \\\n",
       "0     132480   0.775374   0.909185   0.606704   0.660626   0.449968   \n",
       "1     132481   0.775423   0.909142   0.607796   0.660655   0.487813   \n",
       "2     132482   0.775458   0.909004   0.607988   0.660623   0.469532   \n",
       "3     132483   0.775513   0.909200   0.607218   0.660640   0.459910   \n",
       "4     132484   0.775587   0.909318   0.606654   0.660643   0.462155   \n",
       "\n",
       "   feature_5  feature_6  feature_7  feature_8  ...  feature_15  feature_16  \\\n",
       "0   0.426717   0.471591   0.434668   0.479511  ...    0.400617    0.480444   \n",
       "1   0.442545   0.505682   0.448640   0.499451  ...    0.396902    0.500213   \n",
       "2   0.433682   0.477273   0.450906   0.487223  ...    0.389270    0.487982   \n",
       "3   0.435581   0.482955   0.454683   0.490431  ...    0.403780    0.491253   \n",
       "4   0.436214   0.477273   0.449396   0.494671  ...    0.403636    0.495947   \n",
       "\n",
       "   feature_17  feature_18  feature_19  feature_20  feature_21  feature_22  \\\n",
       "0    0.588670    0.404036    0.638957    0.020236    0.042705    0.173375   \n",
       "1    0.587041    0.421605    0.637865    0.018550    0.042705    0.191826   \n",
       "2    0.582404    0.407393    0.636091    0.018550    0.039146    0.188361   \n",
       "3    0.584660    0.407141    0.638138    0.020236    0.042705    0.186975   \n",
       "4    0.581527    0.402761    0.632678    0.021922    0.042705    0.156325   \n",
       "\n",
       "   feature_23  feature_24  \n",
       "0    0.008715    0.105991  \n",
       "1    0.010893    0.110599  \n",
       "2    0.010893    0.115207  \n",
       "3    0.013072    0.110599  \n",
       "4    0.008715    0.110599  \n",
       "\n",
       "[5 rows x 26 columns]"
      ]
     },
     "execution_count": 23,
     "metadata": {},
     "output_type": "execute_result"
    }
   ],
   "source": [
    "psm_test.head()"
   ]
  },
  {
   "cell_type": "code",
   "execution_count": 24,
   "id": "96ec578d",
   "metadata": {
    "scrolled": true
   },
   "outputs": [
    {
     "data": {
      "text/plain": [
       "<matplotlib.collections.PathCollection at 0x17f6dfbdee0>"
      ]
     },
     "execution_count": 24,
     "metadata": {},
     "output_type": "execute_result"
    },
    {
     "data": {
      "image/png": "[encoded data removed]",
      "text/plain": [
       "<Figure size 432x288 with 1 Axes>"
      ]
     },
     "metadata": {
      "needs_background": "light"
     },
     "output_type": "display_data"
    }
   ],
   "source": [
    "plt.scatter(psm_test.iloc[:,0],psm_test.iloc[:,1])"
   ]
  },
  {
   "cell_type": "code",
   "execution_count": 25,
   "id": "f4cc8971",
   "metadata": {},
   "outputs": [],
   "source": [
    "clf = IsolationForest(contamination = 'auto')\n",
    "clf.fit(psm_test)\n",
    "predictions = clf.predict(psm_test)"
   ]
  },
  {
   "cell_type": "code",
   "execution_count": 26,
   "id": "b41794b6",
   "metadata": {},
   "outputs": [
    {
     "data": {
      "text/plain": [
       "array([ 1,  1,  1, ..., -1, -1, -1])"
      ]
     },
     "execution_count": 26,
     "metadata": {},
     "output_type": "execute_result"
    }
   ],
   "source": [
    "predictions"
   ]
  },
  {
   "cell_type": "code",
   "execution_count": 27,
   "id": "673b4135",
   "metadata": {},
   "outputs": [
    {
     "data": {
      "text/plain": [
       "(array([   90,   428,   429, ..., 87838, 87839, 87840], dtype=int64),)"
      ]
     },
     "execution_count": 27,
     "metadata": {},
     "output_type": "execute_result"
    }
   ],
   "source": [
    "index = np.where(predictions < 0)\n",
    "index"
   ]
  },
  {
   "cell_type": "code",
   "execution_count": 28,
   "id": "8dcadcca",
   "metadata": {},
   "outputs": [],
   "source": [
    "x1 = psm_test.values"
   ]
  },
  {
   "cell_type": "code",
   "execution_count": 29,
   "id": "fa67d87f",
   "metadata": {},
   "outputs": [
    {
     "data": {
      "text/plain": [
       "<matplotlib.collections.PathCollection at 0x17f6ddeaa60>"
      ]
     },
     "execution_count": 29,
     "metadata": {},
     "output_type": "execute_result"
    },
    {
     "data": {
      "image/png": "[encoded data removed]",
      "text/plain": [
       "<Figure size 432x288 with 1 Axes>"
      ]
     },
     "metadata": {
      "needs_background": "light"
     },
     "output_type": "display_data"
    }
   ],
   "source": [
    "index = np.where(predictions < 0)\n",
    "plt.scatter(psm_test.iloc[:,0], psm_test.iloc[:,1])\n",
    "plt.scatter(x1[index,0],x1[index,1], edgecolors = \"r\")"
   ]
  },
  {
   "cell_type": "code",
   "execution_count": null,
   "id": "b8ffe79f",
   "metadata": {},
   "outputs": [],
   "source": []
  },
  {
   "cell_type": "code",
   "execution_count": null,
   "id": "2a9c95cc",
   "metadata": {},
   "outputs": [],
   "source": []
  },
  {
   "cell_type": "code",
   "execution_count": 30,
   "id": "6a38b1ab",
   "metadata": {},
   "outputs": [],
   "source": [
    "#univariate_analysis\n",
    "psm = psm_test[['timestamp','feature_0']]"
   ]
  },
  {
   "cell_type": "code",
   "execution_count": 31,
   "id": "a28e77aa",
   "metadata": {},
   "outputs": [
    {
     "name": "stdout",
     "output_type": "stream",
     "text": [
      "<class 'pandas.core.frame.DataFrame'>\n",
      "RangeIndex: 87841 entries, 0 to 87840\n",
      "Data columns (total 2 columns):\n",
      " #   Column     Non-Null Count  Dtype  \n",
      "---  ------     --------------  -----  \n",
      " 0   timestamp  87841 non-null  int64  \n",
      " 1   feature_0  87841 non-null  float64\n",
      "dtypes: float64(1), int64(1)\n",
      "memory usage: 1.3 MB\n"
     ]
    }
   ],
   "source": [
    "psm.info()"
   ]
  },
  {
   "cell_type": "code",
   "execution_count": 32,
   "id": "97284f3b",
   "metadata": {},
   "outputs": [
    {
     "data": {
      "text/html": [
       "<div>\n",
       "<style scoped>\n",
       "    .dataframe tbody tr th:only-of-type {\n",
       "        vertical-align: middle;\n",
       "    }\n",
       "\n",
       "    .dataframe tbody tr th {\n",
       "        vertical-align: top;\n",
       "    }\n",
       "\n",
       "    .dataframe thead th {\n",
       "        text-align: right;\n",
       "    }\n",
       "</style>\n",
       "<table border=\"1\" class=\"dataframe\">\n",
       "  <thead>\n",
       "    <tr style=\"text-align: right;\">\n",
       "      <th></th>\n",
       "      <th>timestamp</th>\n",
       "      <th>feature_0</th>\n",
       "    </tr>\n",
       "  </thead>\n",
       "  <tbody>\n",
       "    <tr>\n",
       "      <th>0</th>\n",
       "      <td>132480</td>\n",
       "      <td>0.775374</td>\n",
       "    </tr>\n",
       "    <tr>\n",
       "      <th>1</th>\n",
       "      <td>132481</td>\n",
       "      <td>0.775423</td>\n",
       "    </tr>\n",
       "    <tr>\n",
       "      <th>2</th>\n",
       "      <td>132482</td>\n",
       "      <td>0.775458</td>\n",
       "    </tr>\n",
       "    <tr>\n",
       "      <th>3</th>\n",
       "      <td>132483</td>\n",
       "      <td>0.775513</td>\n",
       "    </tr>\n",
       "    <tr>\n",
       "      <th>4</th>\n",
       "      <td>132484</td>\n",
       "      <td>0.775587</td>\n",
       "    </tr>\n",
       "    <tr>\n",
       "      <th>...</th>\n",
       "      <td>...</td>\n",
       "      <td>...</td>\n",
       "    </tr>\n",
       "    <tr>\n",
       "      <th>87836</th>\n",
       "      <td>220316</td>\n",
       "      <td>0.864548</td>\n",
       "    </tr>\n",
       "    <tr>\n",
       "      <th>87837</th>\n",
       "      <td>220317</td>\n",
       "      <td>0.864483</td>\n",
       "    </tr>\n",
       "    <tr>\n",
       "      <th>87838</th>\n",
       "      <td>220318</td>\n",
       "      <td>0.864644</td>\n",
       "    </tr>\n",
       "    <tr>\n",
       "      <th>87839</th>\n",
       "      <td>220319</td>\n",
       "      <td>0.864553</td>\n",
       "    </tr>\n",
       "    <tr>\n",
       "      <th>87840</th>\n",
       "      <td>220320</td>\n",
       "      <td>0.864695</td>\n",
       "    </tr>\n",
       "  </tbody>\n",
       "</table>\n",
       "<p>87841 rows × 2 columns</p>\n",
       "</div>"
      ],
      "text/plain": [
       "       timestamp  feature_0\n",
       "0         132480   0.775374\n",
       "1         132481   0.775423\n",
       "2         132482   0.775458\n",
       "3         132483   0.775513\n",
       "4         132484   0.775587\n",
       "...          ...        ...\n",
       "87836     220316   0.864548\n",
       "87837     220317   0.864483\n",
       "87838     220318   0.864644\n",
       "87839     220319   0.864553\n",
       "87840     220320   0.864695\n",
       "\n",
       "[87841 rows x 2 columns]"
      ]
     },
     "execution_count": 32,
     "metadata": {},
     "output_type": "execute_result"
    }
   ],
   "source": [
    "psm"
   ]
  },
  {
   "cell_type": "code",
   "execution_count": 33,
   "id": "32272fee",
   "metadata": {},
   "outputs": [
    {
     "name": "stderr",
     "output_type": "stream",
     "text": [
      "C:\\Users\\anujk\\AppData\\Local\\Temp\\ipykernel_19944\\2435451702.py:1: SettingWithCopyWarning: \n",
      "A value is trying to be set on a copy of a slice from a DataFrame.\n",
      "Try using .loc[row_indexer,col_indexer] = value instead\n",
      "\n",
      "See the caveats in the documentation: https://pandas.pydata.org/pandas-docs/stable/user_guide/indexing.html#returning-a-view-versus-a-copy\n",
      "  psm['timestamp'] = pd.to_datetime(psm.timestamp)\n"
     ]
    }
   ],
   "source": [
    "psm['timestamp'] = pd.to_datetime(psm.timestamp)"
   ]
  },
  {
   "cell_type": "code",
   "execution_count": 34,
   "id": "8df62250",
   "metadata": {},
   "outputs": [
    {
     "data": {
      "text/html": [
       "<div>\n",
       "<style scoped>\n",
       "    .dataframe tbody tr th:only-of-type {\n",
       "        vertical-align: middle;\n",
       "    }\n",
       "\n",
       "    .dataframe tbody tr th {\n",
       "        vertical-align: top;\n",
       "    }\n",
       "\n",
       "    .dataframe thead th {\n",
       "        text-align: right;\n",
       "    }\n",
       "</style>\n",
       "<table border=\"1\" class=\"dataframe\">\n",
       "  <thead>\n",
       "    <tr style=\"text-align: right;\">\n",
       "      <th></th>\n",
       "      <th>timestamp</th>\n",
       "      <th>feature_0</th>\n",
       "    </tr>\n",
       "  </thead>\n",
       "  <tbody>\n",
       "    <tr>\n",
       "      <th>0</th>\n",
       "      <td>1970-01-01 00:00:00.000132480</td>\n",
       "      <td>0.775374</td>\n",
       "    </tr>\n",
       "    <tr>\n",
       "      <th>1</th>\n",
       "      <td>1970-01-01 00:00:00.000132481</td>\n",
       "      <td>0.775423</td>\n",
       "    </tr>\n",
       "    <tr>\n",
       "      <th>2</th>\n",
       "      <td>1970-01-01 00:00:00.000132482</td>\n",
       "      <td>0.775458</td>\n",
       "    </tr>\n",
       "    <tr>\n",
       "      <th>3</th>\n",
       "      <td>1970-01-01 00:00:00.000132483</td>\n",
       "      <td>0.775513</td>\n",
       "    </tr>\n",
       "    <tr>\n",
       "      <th>4</th>\n",
       "      <td>1970-01-01 00:00:00.000132484</td>\n",
       "      <td>0.775587</td>\n",
       "    </tr>\n",
       "    <tr>\n",
       "      <th>...</th>\n",
       "      <td>...</td>\n",
       "      <td>...</td>\n",
       "    </tr>\n",
       "    <tr>\n",
       "      <th>87836</th>\n",
       "      <td>1970-01-01 00:00:00.000220316</td>\n",
       "      <td>0.864548</td>\n",
       "    </tr>\n",
       "    <tr>\n",
       "      <th>87837</th>\n",
       "      <td>1970-01-01 00:00:00.000220317</td>\n",
       "      <td>0.864483</td>\n",
       "    </tr>\n",
       "    <tr>\n",
       "      <th>87838</th>\n",
       "      <td>1970-01-01 00:00:00.000220318</td>\n",
       "      <td>0.864644</td>\n",
       "    </tr>\n",
       "    <tr>\n",
       "      <th>87839</th>\n",
       "      <td>1970-01-01 00:00:00.000220319</td>\n",
       "      <td>0.864553</td>\n",
       "    </tr>\n",
       "    <tr>\n",
       "      <th>87840</th>\n",
       "      <td>1970-01-01 00:00:00.000220320</td>\n",
       "      <td>0.864695</td>\n",
       "    </tr>\n",
       "  </tbody>\n",
       "</table>\n",
       "<p>87841 rows × 2 columns</p>\n",
       "</div>"
      ],
      "text/plain": [
       "                          timestamp  feature_0\n",
       "0     1970-01-01 00:00:00.000132480   0.775374\n",
       "1     1970-01-01 00:00:00.000132481   0.775423\n",
       "2     1970-01-01 00:00:00.000132482   0.775458\n",
       "3     1970-01-01 00:00:00.000132483   0.775513\n",
       "4     1970-01-01 00:00:00.000132484   0.775587\n",
       "...                             ...        ...\n",
       "87836 1970-01-01 00:00:00.000220316   0.864548\n",
       "87837 1970-01-01 00:00:00.000220317   0.864483\n",
       "87838 1970-01-01 00:00:00.000220318   0.864644\n",
       "87839 1970-01-01 00:00:00.000220319   0.864553\n",
       "87840 1970-01-01 00:00:00.000220320   0.864695\n",
       "\n",
       "[87841 rows x 2 columns]"
      ]
     },
     "execution_count": 34,
     "metadata": {},
     "output_type": "execute_result"
    }
   ],
   "source": [
    "psm"
   ]
  },
  {
   "cell_type": "code",
   "execution_count": 35,
   "id": "d9440bf9",
   "metadata": {},
   "outputs": [
    {
     "name": "stdout",
     "output_type": "stream",
     "text": [
      "<class 'pandas.core.frame.DataFrame'>\n",
      "RangeIndex: 87841 entries, 0 to 87840\n",
      "Data columns (total 2 columns):\n",
      " #   Column     Non-Null Count  Dtype         \n",
      "---  ------     --------------  -----         \n",
      " 0   timestamp  87841 non-null  datetime64[ns]\n",
      " 1   feature_0  87841 non-null  float64       \n",
      "dtypes: datetime64[ns](1), float64(1)\n",
      "memory usage: 1.3 MB\n"
     ]
    }
   ],
   "source": [
    "psm.info()"
   ]
  },
  {
   "cell_type": "code",
   "execution_count": 36,
   "id": "360b6d4b",
   "metadata": {},
   "outputs": [],
   "source": [
    "psm  = psm.set_index('timestamp')"
   ]
  },
  {
   "cell_type": "code",
   "execution_count": 37,
   "id": "80f3ddcb",
   "metadata": {},
   "outputs": [
    {
     "data": {
      "text/html": [
       "<div>\n",
       "<style scoped>\n",
       "    .dataframe tbody tr th:only-of-type {\n",
       "        vertical-align: middle;\n",
       "    }\n",
       "\n",
       "    .dataframe tbody tr th {\n",
       "        vertical-align: top;\n",
       "    }\n",
       "\n",
       "    .dataframe thead th {\n",
       "        text-align: right;\n",
       "    }\n",
       "</style>\n",
       "<table border=\"1\" class=\"dataframe\">\n",
       "  <thead>\n",
       "    <tr style=\"text-align: right;\">\n",
       "      <th></th>\n",
       "      <th>feature_0</th>\n",
       "    </tr>\n",
       "    <tr>\n",
       "      <th>timestamp</th>\n",
       "      <th></th>\n",
       "    </tr>\n",
       "  </thead>\n",
       "  <tbody>\n",
       "    <tr>\n",
       "      <th>1970-01-01 00:00:00.000132480</th>\n",
       "      <td>0.775374</td>\n",
       "    </tr>\n",
       "    <tr>\n",
       "      <th>1970-01-01 00:00:00.000132481</th>\n",
       "      <td>0.775423</td>\n",
       "    </tr>\n",
       "    <tr>\n",
       "      <th>1970-01-01 00:00:00.000132482</th>\n",
       "      <td>0.775458</td>\n",
       "    </tr>\n",
       "    <tr>\n",
       "      <th>1970-01-01 00:00:00.000132483</th>\n",
       "      <td>0.775513</td>\n",
       "    </tr>\n",
       "    <tr>\n",
       "      <th>1970-01-01 00:00:00.000132484</th>\n",
       "      <td>0.775587</td>\n",
       "    </tr>\n",
       "    <tr>\n",
       "      <th>...</th>\n",
       "      <td>...</td>\n",
       "    </tr>\n",
       "    <tr>\n",
       "      <th>1970-01-01 00:00:00.000220316</th>\n",
       "      <td>0.864548</td>\n",
       "    </tr>\n",
       "    <tr>\n",
       "      <th>1970-01-01 00:00:00.000220317</th>\n",
       "      <td>0.864483</td>\n",
       "    </tr>\n",
       "    <tr>\n",
       "      <th>1970-01-01 00:00:00.000220318</th>\n",
       "      <td>0.864644</td>\n",
       "    </tr>\n",
       "    <tr>\n",
       "      <th>1970-01-01 00:00:00.000220319</th>\n",
       "      <td>0.864553</td>\n",
       "    </tr>\n",
       "    <tr>\n",
       "      <th>1970-01-01 00:00:00.000220320</th>\n",
       "      <td>0.864695</td>\n",
       "    </tr>\n",
       "  </tbody>\n",
       "</table>\n",
       "<p>87841 rows × 1 columns</p>\n",
       "</div>"
      ],
      "text/plain": [
       "                               feature_0\n",
       "timestamp                               \n",
       "1970-01-01 00:00:00.000132480   0.775374\n",
       "1970-01-01 00:00:00.000132481   0.775423\n",
       "1970-01-01 00:00:00.000132482   0.775458\n",
       "1970-01-01 00:00:00.000132483   0.775513\n",
       "1970-01-01 00:00:00.000132484   0.775587\n",
       "...                                  ...\n",
       "1970-01-01 00:00:00.000220316   0.864548\n",
       "1970-01-01 00:00:00.000220317   0.864483\n",
       "1970-01-01 00:00:00.000220318   0.864644\n",
       "1970-01-01 00:00:00.000220319   0.864553\n",
       "1970-01-01 00:00:00.000220320   0.864695\n",
       "\n",
       "[87841 rows x 1 columns]"
      ]
     },
     "execution_count": 37,
     "metadata": {},
     "output_type": "execute_result"
    }
   ],
   "source": [
    "psm"
   ]
  },
  {
   "cell_type": "code",
   "execution_count": 38,
   "id": "0c64e7f6",
   "metadata": {},
   "outputs": [],
   "source": [
    "#eda of the data"
   ]
  },
  {
   "cell_type": "code",
   "execution_count": 39,
   "id": "e3b16728",
   "metadata": {},
   "outputs": [
    {
     "data": {
      "text/html": [
       "<div>\n",
       "<style scoped>\n",
       "    .dataframe tbody tr th:only-of-type {\n",
       "        vertical-align: middle;\n",
       "    }\n",
       "\n",
       "    .dataframe tbody tr th {\n",
       "        vertical-align: top;\n",
       "    }\n",
       "\n",
       "    .dataframe thead th {\n",
       "        text-align: right;\n",
       "    }\n",
       "</style>\n",
       "<table border=\"1\" class=\"dataframe\">\n",
       "  <thead>\n",
       "    <tr style=\"text-align: right;\">\n",
       "      <th></th>\n",
       "      <th>feature_0</th>\n",
       "    </tr>\n",
       "  </thead>\n",
       "  <tbody>\n",
       "    <tr>\n",
       "      <th>count</th>\n",
       "      <td>87841.000000</td>\n",
       "    </tr>\n",
       "    <tr>\n",
       "      <th>mean</th>\n",
       "      <td>0.829105</td>\n",
       "    </tr>\n",
       "    <tr>\n",
       "      <th>std</th>\n",
       "      <td>0.047640</td>\n",
       "    </tr>\n",
       "    <tr>\n",
       "      <th>min</th>\n",
       "      <td>0.521701</td>\n",
       "    </tr>\n",
       "    <tr>\n",
       "      <th>25%</th>\n",
       "      <td>0.795859</td>\n",
       "    </tr>\n",
       "    <tr>\n",
       "      <th>50%</th>\n",
       "      <td>0.825835</td>\n",
       "    </tr>\n",
       "    <tr>\n",
       "      <th>75%</th>\n",
       "      <td>0.861815</td>\n",
       "    </tr>\n",
       "    <tr>\n",
       "      <th>max</th>\n",
       "      <td>0.928893</td>\n",
       "    </tr>\n",
       "  </tbody>\n",
       "</table>\n",
       "</div>"
      ],
      "text/plain": [
       "          feature_0\n",
       "count  87841.000000\n",
       "mean       0.829105\n",
       "std        0.047640\n",
       "min        0.521701\n",
       "25%        0.795859\n",
       "50%        0.825835\n",
       "75%        0.861815\n",
       "max        0.928893"
      ]
     },
     "execution_count": 39,
     "metadata": {},
     "output_type": "execute_result"
    }
   ],
   "source": [
    "psm.describe()"
   ]
  },
  {
   "cell_type": "code",
   "execution_count": 40,
   "id": "2e66601e",
   "metadata": {},
   "outputs": [
    {
     "data": {
      "text/plain": [
       "[<matplotlib.lines.Line2D at 0x17f01330910>]"
      ]
     },
     "execution_count": 40,
     "metadata": {},
     "output_type": "execute_result"
    },
    {
     "data": {
      "image/png": "[encoded data removed]",
      "text/plain": [
       "<Figure size 432x288 with 1 Axes>"
      ]
     },
     "metadata": {
      "needs_background": "light"
     },
     "output_type": "display_data"
    }
   ],
   "source": [
    "plt.plot(psm.feature_0)"
   ]
  },
  {
   "cell_type": "code",
   "execution_count": 41,
   "id": "9e081a3f",
   "metadata": {},
   "outputs": [
    {
     "data": {
      "text/plain": [
       "(array([9.0000e+00, 5.1000e+01, 6.1000e+01, 2.1900e+02, 9.6100e+02,\n",
       "        4.9240e+03, 2.4016e+04, 2.5794e+04, 1.8728e+04, 1.3078e+04]),\n",
       " array([0.52170108, 0.56242025, 0.60313942, 0.64385858, 0.68457775,\n",
       "        0.72529691, 0.76601608, 0.80673524, 0.84745441, 0.88817358,\n",
       "        0.92889274]),\n",
       " <BarContainer object of 10 artists>)"
      ]
     },
     "execution_count": 41,
     "metadata": {},
     "output_type": "execute_result"
    },
    {
     "data": {
      "image/png": "[encoded data removed]",
      "text/plain": [
       "<Figure size 432x288 with 1 Axes>"
      ]
     },
     "metadata": {
      "needs_background": "light"
     },
     "output_type": "display_data"
    }
   ],
   "source": [
    "plt.hist(psm.feature_0)"
   ]
  },
  {
   "cell_type": "code",
   "execution_count": 42,
   "id": "c6266a71",
   "metadata": {},
   "outputs": [
    {
     "name": "stderr",
     "output_type": "stream",
     "text": [
      "C:\\Users\\anujk\\anaconda3\\lib\\site-packages\\seaborn\\distributions.py:2619: FutureWarning: `distplot` is a deprecated function and will be removed in a future version. Please adapt your code to use either `displot` (a figure-level function with similar flexibility) or `histplot` (an axes-level function for histograms).\n",
      "  warnings.warn(msg, FutureWarning)\n"
     ]
    },
    {
     "data": {
      "text/plain": [
       "<AxesSubplot:xlabel='feature_0', ylabel='Density'>"
      ]
     },
     "execution_count": 42,
     "metadata": {},
     "output_type": "execute_result"
    },
    {
     "data": {
      "image/png": "[encoded data removed]",
      "text/plain": [
       "<Figure size 432x288 with 1 Axes>"
      ]
     },
     "metadata": {
      "needs_background": "light"
     },
     "output_type": "display_data"
    }
   ],
   "source": [
    "import seaborn as sns\n",
    "sns.distplot(psm.feature_0)"
   ]
  },
  {
   "cell_type": "code",
   "execution_count": 43,
   "id": "bcb3ffce",
   "metadata": {
    "scrolled": true
   },
   "outputs": [
    {
     "data": {
      "image/png": "[encoded data removed]",
      "text/plain": [
       "<Figure size 1296x576 with 1 Axes>"
      ]
     },
     "metadata": {},
     "output_type": "display_data"
    }
   ],
   "source": [
    "#plotting graph\n",
    "plt.style.use('ggplot')\n",
    "plt.figure(figsize = (18,8))\n",
    "plt.grid(True)\n",
    "plt.xlabel('timestamp(min)' , fontsize = 20)\n",
    "plt.xticks(fontsize = 15)\n",
    "plt.ylabel('Feature_0', fontsize = 20)\n",
    "plt.yticks(fontsize = 15)\n",
    "plt.plot(psm['feature_0'], linewidth = 3, color = 'blue')\n",
    "plt.title('PSM_TEST', fontsize = 38)\n",
    "plt.show()"
   ]
  },
  {
   "cell_type": "code",
   "execution_count": 44,
   "id": "a6a9933e",
   "metadata": {},
   "outputs": [
    {
     "data": {
      "text/plain": [
       "timestamp\n",
       "1970-01-01 00:00:00.000132480    0.775374\n",
       "1970-01-01 00:00:00.000132481    0.775423\n",
       "1970-01-01 00:00:00.000132482    0.775458\n",
       "1970-01-01 00:00:00.000132483    0.775513\n",
       "1970-01-01 00:00:00.000132484    0.775587\n",
       "                                   ...   \n",
       "1970-01-01 00:00:00.000220316    0.864548\n",
       "1970-01-01 00:00:00.000220317    0.864483\n",
       "1970-01-01 00:00:00.000220318    0.864644\n",
       "1970-01-01 00:00:00.000220319    0.864553\n",
       "1970-01-01 00:00:00.000220320    0.864695\n",
       "Name: feature_0, Length: 87841, dtype: float64"
      ]
     },
     "execution_count": 44,
     "metadata": {},
     "output_type": "execute_result"
    }
   ],
   "source": [
    "psm['feature_0']"
   ]
  },
  {
   "cell_type": "code",
   "execution_count": 45,
   "id": "42bfd955",
   "metadata": {},
   "outputs": [],
   "source": [
    "rolmean = psm['feature_0'].rolling(360).mean()"
   ]
  },
  {
   "cell_type": "code",
   "execution_count": 46,
   "id": "fd48c60e",
   "metadata": {},
   "outputs": [
    {
     "data": {
      "text/plain": [
       "timestamp\n",
       "1970-01-01 00:00:00.000132480         NaN\n",
       "1970-01-01 00:00:00.000132481         NaN\n",
       "1970-01-01 00:00:00.000132482         NaN\n",
       "1970-01-01 00:00:00.000132483         NaN\n",
       "1970-01-01 00:00:00.000132484         NaN\n",
       "                                   ...   \n",
       "1970-01-01 00:00:00.000220316    0.859794\n",
       "1970-01-01 00:00:00.000220317    0.859838\n",
       "1970-01-01 00:00:00.000220318    0.859883\n",
       "1970-01-01 00:00:00.000220319    0.859927\n",
       "1970-01-01 00:00:00.000220320    0.859973\n",
       "Name: feature_0, Length: 87841, dtype: float64"
      ]
     },
     "execution_count": 46,
     "metadata": {},
     "output_type": "execute_result"
    }
   ],
   "source": [
    "rolmean"
   ]
  },
  {
   "cell_type": "code",
   "execution_count": 47,
   "id": "76d6d0f1",
   "metadata": {},
   "outputs": [],
   "source": [
    "rolstd = psm['feature_0'].rolling(360).std()"
   ]
  },
  {
   "cell_type": "code",
   "execution_count": 48,
   "id": "41ce1ff7",
   "metadata": {},
   "outputs": [
    {
     "data": {
      "text/plain": [
       "timestamp\n",
       "1970-01-01 00:00:00.000132480         NaN\n",
       "1970-01-01 00:00:00.000132481         NaN\n",
       "1970-01-01 00:00:00.000132482         NaN\n",
       "1970-01-01 00:00:00.000132483         NaN\n",
       "1970-01-01 00:00:00.000132484         NaN\n",
       "                                   ...   \n",
       "1970-01-01 00:00:00.000220316    0.006679\n",
       "1970-01-01 00:00:00.000220317    0.006658\n",
       "1970-01-01 00:00:00.000220318    0.006635\n",
       "1970-01-01 00:00:00.000220319    0.006612\n",
       "1970-01-01 00:00:00.000220320    0.006589\n",
       "Name: feature_0, Length: 87841, dtype: float64"
      ]
     },
     "execution_count": 48,
     "metadata": {},
     "output_type": "execute_result"
    }
   ],
   "source": [
    "rolstd"
   ]
  },
  {
   "cell_type": "code",
   "execution_count": 49,
   "id": "0b5c960c",
   "metadata": {},
   "outputs": [
    {
     "data": {
      "text/plain": [
       "[<matplotlib.lines.Line2D at 0x17f02025b50>]"
      ]
     },
     "execution_count": 49,
     "metadata": {},
     "output_type": "execute_result"
    },
    {
     "data": {
      "image/png": "[encoded data removed]",
      "text/plain": [
       "<Figure size 432x288 with 1 Axes>"
      ]
     },
     "metadata": {},
     "output_type": "display_data"
    }
   ],
   "source": [
    "plt.plot(psm.feature_0)\n",
    "plt.plot(rolmean)\n",
    "plt.plot(rolstd)"
   ]
  },
  {
   "cell_type": "code",
   "execution_count": 50,
   "id": "1d4eb614",
   "metadata": {},
   "outputs": [],
   "source": [
    "from statsmodels.tsa.stattools import adfuller\n",
    "adft = adfuller(psm.feature_0)"
   ]
  },
  {
   "cell_type": "code",
   "execution_count": 51,
   "id": "6b447b66",
   "metadata": {},
   "outputs": [
    {
     "data": {
      "text/plain": [
       "(-6.077815976207109,\n",
       " 1.1106352085051922e-07,\n",
       " 64,\n",
       " 87776,\n",
       " {'1%': -3.4304245020420967,\n",
       "  '5%': -2.861572928684853,\n",
       "  '10%': -2.566787526795501},\n",
       " -776695.9344099569)"
      ]
     },
     "execution_count": 51,
     "metadata": {},
     "output_type": "execute_result"
    }
   ],
   "source": [
    "adft"
   ]
  },
  {
   "cell_type": "markdown",
   "id": "70e15814",
   "metadata": {},
   "source": [
    "#test_statistic_value = -6\n",
    "#p_value = 1.11\n",
    "#lags = 64\n",
    "#total_data_points = 87776"
   ]
  },
  {
   "cell_type": "code",
   "execution_count": 52,
   "id": "74afe1ec",
   "metadata": {},
   "outputs": [
    {
     "data": {
      "text/plain": [
       "test stats    -6.077816e+00\n",
       "p value        1.110635e-07\n",
       "lag            6.400000e+01\n",
       "data points    8.777600e+04\n",
       "dtype: float64"
      ]
     },
     "execution_count": 52,
     "metadata": {},
     "output_type": "execute_result"
    }
   ],
   "source": [
    "pd.Series(adft[0:4],index=[\"test stats\",\"p value\",\"lag\",\"data points\"])"
   ]
  },
  {
   "cell_type": "markdown",
   "id": "c7de472a",
   "metadata": {},
   "source": [
    "null hypothehsis = data is non stationary\n",
    "\n",
    "\n",
    "p value = 1.110635e-07\n",
    "p < 1.11\n",
    "\n",
    "reject null hypothesis\n",
    "\n",
    "p > 1.11\n",
    "\n",
    "accepts null hypothesis"
   ]
  },
  {
   "cell_type": "code",
   "execution_count": 53,
   "id": "867c2a27",
   "metadata": {},
   "outputs": [],
   "source": [
    " #Test for staionarity\n",
    "def test_stationarity(timeseries):\n",
    "    # Determing rolling statistics\n",
    "    rolmean = timeseries.rolling(48).mean() # rolling mean\n",
    "    rolstd = timeseries.rolling(48).std() # rolling standard deviation\n",
    "    # Plot rolling statistics:\n",
    "    plt.figure(figsize = (18,8))\n",
    "    plt.grid('both')\n",
    "    plt.plot(timeseries, color='blue',label='Original', linewidth = 3)\n",
    "    plt.plot(rolmean, color='red', label='Rolling Mean',linewidth = 3)\n",
    "    plt.plot(rolstd, color='black', label = 'Rolling Std',linewidth = 4)\n",
    "    plt.legend(loc='best', fontsize = 20, shadow=True,facecolor='lightpink',edgecolor = 'k')\n",
    "    plt.title('Rolling Mean and Standard Deviation', fontsize = 25)\n",
    "    plt.xticks(fontsize = 15)\n",
    "    plt.yticks(fontsize = 15)\n",
    "    plt.show(block=False)\n",
    "\n",
    "    print(\"Results of dickey fuller test\")\n",
    "    adft = adfuller(timeseries,autolag='AIC')\n",
    "    # output for dft will give us without defining what the values are.\n",
    "    # hence we manually write what values does it explains using a for loop\n",
    "    output = pd.Series(adft[0:4],index=['Test Statistics','p-value','No. of lags used','Number of observations used'])\n",
    "    for key,values in adft[4].items():\n",
    "        output['critical value (%s)'%key] =  values\n",
    "    print(output)"
   ]
  },
  {
   "cell_type": "code",
   "execution_count": 54,
   "id": "d85a4f66",
   "metadata": {},
   "outputs": [
    {
     "data": {
      "image/png": "[encoded data removed]",
      "text/plain": [
       "<Figure size 1296x576 with 1 Axes>"
      ]
     },
     "metadata": {},
     "output_type": "display_data"
    },
    {
     "name": "stdout",
     "output_type": "stream",
     "text": [
      "Results of dickey fuller test\n",
      "Test Statistics               -6.077816e+00\n",
      "p-value                        1.110635e-07\n",
      "No. of lags used               6.400000e+01\n",
      "Number of observations used    8.777600e+04\n",
      "critical value (1%)           -3.430425e+00\n",
      "critical value (5%)           -2.861573e+00\n",
      "critical value (10%)          -2.566788e+00\n",
      "dtype: float64\n"
     ]
    }
   ],
   "source": [
    "test_stationarity(psm)"
   ]
  },
  {
   "cell_type": "code",
   "execution_count": 55,
   "id": "7c1de019",
   "metadata": {},
   "outputs": [],
   "source": [
    "#outliers"
   ]
  },
  {
   "cell_type": "code",
   "execution_count": 57,
   "id": "879559a3",
   "metadata": {},
   "outputs": [
    {
     "data": {
      "text/plain": [
       "<AxesSubplot:xlabel='feature_0'>"
      ]
     },
     "execution_count": 57,
     "metadata": {},
     "output_type": "execute_result"
    },
    {
     "data": {
      "image/png": "[encoded data removed]",
      "text/plain": [
       "<Figure size 432x288 with 1 Axes>"
      ]
     },
     "metadata": {},
     "output_type": "display_data"
    }
   ],
   "source": [
    "sns.boxplot(psm.feature_0)"
   ]
  },
  {
   "cell_type": "code",
   "execution_count": 58,
   "id": "5c12f8a1",
   "metadata": {},
   "outputs": [],
   "source": [
    "# time series decomposition\n",
    "\n",
    "from statsmodels.tsa.seasonal import seasonal_decompose\n",
    "result=seasonal_decompose(psm[[\"feature_0\"]],period=12)"
   ]
  },
  {
   "cell_type": "code",
   "execution_count": 62,
   "id": "57d6b352",
   "metadata": {},
   "outputs": [
    {
     "data": {
      "image/png": "[encoded data removed]",
      "text/plain": [
       "<Figure size 432x288 with 4 Axes>"
      ]
     },
     "execution_count": 62,
     "metadata": {},
     "output_type": "execute_result"
    },
    {
     "data": {
      "image/png": "[encoded data removed]",
      "text/plain": [
       "<Figure size 432x288 with 4 Axes>"
      ]
     },
     "metadata": {},
     "output_type": "display_data"
    }
   ],
   "source": [
    "result.plot()"
   ]
  },
  {
   "cell_type": "code",
   "execution_count": 63,
   "id": "a32cacad",
   "metadata": {},
   "outputs": [
    {
     "data": {
      "text/plain": [
       "<Figure size 1440x720 with 0 Axes>"
      ]
     },
     "metadata": {},
     "output_type": "display_data"
    },
    {
     "data": {
      "image/png": "[encoded data removed]",
      "text/plain": [
       "<Figure size 1224x720 with 4 Axes>"
      ]
     },
     "metadata": {},
     "output_type": "display_data"
    }
   ],
   "source": [
    "fig=plt.figure(figsize=(20,10))\n",
    "fig=result.plot()\n",
    "fig.set_size_inches(17,10)"
   ]
  },
  {
   "cell_type": "code",
   "execution_count": 65,
   "id": "0b05ac34",
   "metadata": {},
   "outputs": [
    {
     "name": "stderr",
     "output_type": "stream",
     "text": [
      "C:\\Users\\anujk\\anaconda3\\lib\\site-packages\\statsmodels\\graphics\\tsaplots.py:348: FutureWarning: The default method 'yw' can produce PACF values outside of the [-1,1] interval. After 0.13, the default will change tounadjusted Yule-Walker ('ywm'). You can use this method now by setting method='ywm'.\n",
      "  warnings.warn(\n"
     ]
    },
    {
     "data": {
      "image/png": "[encoded data removed]",
      "text/plain": [
       "<Figure size 432x288 with 1 Axes>"
      ]
     },
     "execution_count": 65,
     "metadata": {},
     "output_type": "execute_result"
    },
    {
     "data": {
      "image/png": "[encoded data removed]",
      "text/plain": [
       "<Figure size 432x288 with 1 Axes>"
      ]
     },
     "metadata": {},
     "output_type": "display_data"
    },
    {
     "data": {
      "image/png": "[encoded data removed]",
      "text/plain": [
       "<Figure size 432x288 with 1 Axes>"
      ]
     },
     "metadata": {},
     "output_type": "display_data"
    }
   ],
   "source": [
    "from statsmodels.graphics.tsaplots import plot_acf,plot_pacf\n",
    "plot_acf(psm.feature_0)\n",
    "plot_pacf(psm.feature_0)"
   ]
  },
  {
   "cell_type": "code",
   "execution_count": null,
   "id": "27c1b93b",
   "metadata": {},
   "outputs": [],
   "source": []
  }
 ],
 "metadata": {
  "kernelspec": {
   "display_name": "Python 3 (ipykernel)",
   "language": "python",
   "name": "python3"
  },
  "language_info": {
   "codemirror_mode": {
    "name": "ipython",
    "version": 3
   },
   "file_extension": ".py",
   "mimetype": "text/x-python",
   "name": "python",
   "nbconvert_exporter": "python",
   "pygments_lexer": "ipython3",
   "version": "3.9.12"
  }
 },
 "nbformat": 4,
 "nbformat_minor": 5
}
